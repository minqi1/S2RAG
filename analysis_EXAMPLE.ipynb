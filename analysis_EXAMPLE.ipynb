{
 "cells": [
  {
   "cell_type": "markdown",
   "metadata": {},
   "source": [
    "# 1. Responses collection/ inference on example data"
   ]
  },
  {
   "cell_type": "markdown",
   "metadata": {},
   "source": [
    "## Example data"
   ]
  },
  {
   "cell_type": "code",
   "execution_count": 67,
   "metadata": {},
   "outputs": [
    {
     "name": "stdout",
     "output_type": "stream",
     "text": [
      "100\n",
      "{'question': \"What is Henry Feilden's occupation?\", 'answers': ['politician', 'political leader', 'political figure', 'polit.', 'pol'], 'prop': 'occupation', 's_wiki_title': 'Henry Feilden (Conservative politician)', 'id': 4382392, 'pop': 58, 'ctxs': [{'id': '11341299', 'title': 'Henry Feilden (Conservative politician)', 'text': ' Henry Master Feilden (21 February 1818 – 5 September 1875) was an English Conservative Party politician.', 'score': '1.6985543'}, {'id': '3064835', 'title': 'Feilden', 'text': 'Bernard Feilden (1919–2008), British conservation architect ; Bob Feilden (1917–2004), British mechanical engineer ; Gerry Feilden (1904–1981), British general and horse racing identity ; Henry Feilden (disambiguation) ; Joseph Feilden (1824–1895), British politician ; Richard Feilden (1950–2005), British architect ; William Feilden (1772–1850), British politician ', 'score': '1.5850108'}, {'id': '14189134', 'title': 'Feilden baronets', 'text': ' Henry Wemyss Feilden, second son of the second Baronet, was an Arctic explorer.', 'score': '1.572508'}, {'id': '13370826', 'title': 'Bernard Feilden', 'text': ' Feilden was born in Hampstead, London. He was educated at Bedford School and The Bartlett School of Architecture, University College, London, completing his training at the Architectural Association after the second world war. His love of architecture was inherited from his grandfather, Brightwen Binyon (1846-1905), an Ipswich architect and former pupil of Alfred Waterhouse. He joined the practice of Edward Boardman and Son in Norwich, where he designed the Trinity United Reformed Church. He set up an architectural practice, Feilden+Mawson, with David Mawson in 1956, to which offices in Norwich, London and Cambridge were later added. In 1968 Feilden took over as consultant architect to the University ', 'score': '1.544341'}, {'id': '2423008', 'title': 'Henry Wemyss Feilden', 'text': ' Colonel Henry Wemyss Feilden, CB (6 October 1838 – 8 June 1921) was a British Army officer, Arctic explorer and naturalist.', 'score': '1.5208797'}, {'title': 'Henry Feilden (Conservative politician)', 'text': 'Henry Feilden (Conservative politician)\\n\\nHenry Master Feilden (21 February 1818 – 5 September 1875) was an English Conservative Party politician.'}, {'title': 'Edward Hornby', 'text': 'Edward Hornby\\n\\nEdward Kenworthy Hornby (16 June 1839, in Blackburn – 25 June 1887) was an English Conservative Party politician. He sat in the House of Commons from 1869 to 1874.'}, {'title': 'Daniel Thwaites', 'text': 'Daniel Thwaites\\n\\nDaniel Thwaites (1817 – 21 September 1888) was an English brewer<ref name=\"gazette-1875\" /> and a Conservative Party<ref name=\"craig1832-1885\" /> politician from Blackburn in Lancashire. He owned what is now Thwaites Brewery, and sat in the House of Commons from 1875 to 1880.\\n\\nHe was the son of Daniel Thwaites (1777–1843), an excise man who in 1807 had become one of the three partners of the Eanam Brewery in Blackburn, and sole owner of the business in 1824.\\nThe younger Daniel inherited the business in partnership with two of his brothers, and became sole owner in 1857.<ref name=\"thwaites-200\" />\\n\\nAt the 1874 general election, he unsuccessfully contested the borough of Blackburn.\\nHowever, he won the seat at a by-election in October 1875 after the death of Henry Master Feilden, and was one of the two Members of Parliament (MPs) for Blackburn until his defeat at the 1880 general election.<ref name=\"craig1832-1885\" />'}, {'title': 'Category:British naturalists', 'text': ''}, {'title': 'Category:Politics of Blackburn with Darwen', 'text': ''}, {'id': '11361512', 'title': 'Richard Feilden', 'text': ' In 2005, the Richard Feilden Foundation was set up in his memory. The charity is a network of professionals, with expertise of the built environment and education sectors who provide skills and transfer knowledge to enhance educational infrastructure across Africa. It partners with like-minded organisations and individuals to collaborate on building education projects in Africa.', 'score': '1.5164903'}, {'id': '2423009', 'title': 'Henry Wemyss Feilden', 'text': ' Feilden was the second son of Sir William Henry Feilden (1812−1879), 2nd Baronet of Feniscowles. Feilden was born at Newbridge Barracks in Kildare where his father was then serving in the 17th Lancers. He was educated at Cheltenham College. After joining the Black Watch, at the age of nineteen, he fought in the suppression of the Indian Mutiny 1857-58 and at the Taku Forts in China in 1860. In 1862 he volunteered for the Confederate States Army during the American Civil War of 1861−1865. He served as assistant adjutant-general with the remnant of the Army of Tennessee under General Joseph E. Johnston and was present at the surrender at Bennett Place. He then returned ', 'score': '1.5119551'}, {'id': '13370825', 'title': 'Bernard Feilden', 'text': ' Sir Bernard Melchior Feilden CBE FRIBA (11 September 1919 – 14 November 2008) was a conservation architect whose work encompassed cathedrals, the Great Wall of China and the Taj Mahal.', 'score': '1.500639'}, {'id': '3064837', 'title': 'Feilden', 'text': 'Feilden baronets ', 'score': '1.492554'}, {'id': '11361509', 'title': 'Richard Feilden', 'text': ' Feilden was born in Lincoln on 29 March 1950. His father, Bob Feilden, was an engineer who served as the Director General of the British Standards Institution from 1970 to 1981. His uncle Bernard Feilden was a conservation architect. Richard Feilden changed his university studies from engineering to architecture, graduating from Cambridge University, followed by further studies at the Architectural Association. In 1978 he set up his own architecture practice in Bath, Somerset, with fellow architect Peter Clegg: now Feilden Clegg Bradley Studios. The practice specialised in designing and constructing low-energy housing. He built his own house in Warleigh, Wiltshire. He was known to be outspoken, honest and critical of the problems with building design and wider issues, such as global sustainability. He argued that head teachers should be centrally involved in the design of their schools and criticised the mediocrity ', 'score': '1.4920564'}, {'id': '11341300', 'title': 'Henry Feilden (Conservative politician)', 'text': \" On 16 March 1869, the result of the 1868 general election in the borough of Blackburn was declared null and void, after an election petition had been lodged. The two Conservatives who had been elected, William Henry Hornby and Feilden's father Joseph Feilden, were unseated when Mr Justice Willes found that there had been widespread intimidation of voters. Henry Feilden was elected at the resulting by-election on 31 March 1869, along with William Henry Hornby's son Edward. Both candidates had appealed for support as a tribute to their fathers. Feilden was re-elected at the 1874 general election, and held the seat until his death in 1875 aged 57.\", 'score': '1.4919429'}, {'id': '2423010', 'title': 'Henry Wemyss Feilden', 'text': \" the British Army, where he made captain in the Royal Artillery in 1874. He served in the First Boer War in 1881 and again in Africa in 1890. After the outbreak of the Second Boer War, he was again appointed Paymaster of Imperial Yeomanry on 3 February 1900. He was decorated for his service in India, China and South Africa, and was appointed a Companion of the Order of the Bath (CB) for his services to Imperial Yeomanry in 1900. Feilden also collected information on the geology, flora and fauna of newly explored areas, and served as naturalist on Sir George Nares' British Arctic Expedition of 1875-76 on board Alert. During his service in \", 'score': '1.4881613'}, {'id': '15257876', 'title': 'Henry Raymond Selden', 'text': ' Henry Raymond Selden (1821–1865) from Vermont, was an officer in the United States Army during the Mexican–American War, and in service on the frontiers and then in the Union Army during the American Civil War in New Mexico Territory.', 'score': '1.4875369'}, {'id': '3064834', 'title': 'Feilden', 'text': ' Feilden may refer to:', 'score': '1.4823432'}, {'id': '2423011', 'title': 'Henry Wemyss Feilden', 'text': \" he contributed notes on the birds of the region to Allan Octavian Hume. He was a fast friend of the famous writer and poet Rudyard Kipling. The surgeon on HMS Alert, Dr Edward L. Moss, held a low opinion of Feilden's scientific expertise. In 1864, Feilden married Julia, daughter of Judge David James McCord (1797–1855) of South Carolina. In 1880 Feilden settled in Wells-next-the-Sea, Norfolk. Feilden joined the Norfolk and Norwich Naturalists' Society in 1880 and became President in 1885. He lived in Norfolk for over 20 years, moving to Burwash, Sussex in 1902. One of his discoveries in 1888 was a stuffed specimen of the Great Bustard which had been shot in Norfolk. \", 'score': '1.4706583'}, {'id': '2423012', 'title': 'Henry Wemyss Feilden', 'text': ' contributed to Transactions of the Norfolk and Norwich Naturalists\\' Society and submitted scientific papers to The Zoologist and Ibis (the journal of the British Ornithologists\\' Union, to which he was elected in 1873), amongst others. In 1895 and 1897, accompanying Henry J. Pearson, Feilden partook in expeditions to Novaya Zemlya, Kolguyev, Spitsbergen, Lapland and the Kara Sea. As well as being a Fellow of the Royal Geographical Society, Feilden was nominated as a Fellow of the Royal Society of London, but was rejected. The following is from his nomination certificate: \"Was naturalist to Sir George Nares\\' Polar Expedition of 1875−6, when, besides making large and valuable zoological observations and collections, he laid down ', 'score': '1.4671994'}, {'id': '2423013', 'title': 'Henry Wemyss Feilden', 'text': ' geology of 300 miles of the coast of Smith\\'s Sound, and brought home 2000 specimens, carefully localised, illustrating and confirming his surveys. On the same voyage he discovered the Miocene Flora of Grinnell\\'s Land, his collection and observations on which from an important contribution to Heer\\'s \"Flora Fossilis Arctica.\" He has made three subsequent voyages to Arctic Europe and Asia, visiting Novaya Zemlya, Barents Land, Kolguev Island, Spitsbergen, and Russian Lapland, for the purpose of collating the geology, zoology, and botany of Arctic Europe with those of America…\" Feilden died at his home in Burwash in 1921, aged 83, about one year after his wife Julia McCord Feilden (1837–1920). He had no children.', 'score': '1.4644794'}, {'id': '11361508', 'title': 'Richard Feilden', 'text': ' Richard John Robert Feilden OBE (29 March 1950 – 3 January 2005) was a British architect who co-founded Feilden Clegg Architects.', 'score': '1.4590552'}, {'id': '11361510', 'title': 'Richard Feilden', 'text': ' school design. According to architect Sunand Prasad, Feilden\\'s greatest achievement was to form Feilden Clegg into \"a modern form of practice that explicitly embraces the collaborative nature of producing architecture.\" In 1998 he became part of Lord Rogers\\' Urban Task Force and, in 2000, was appointed to the Commission for Architecture and the Built Environment. Feilden was accidentally killed in Warleigh on 3 January 2005, when a tree fell on him while he was clearing a patch of woodland as a memorial to his father, who had died eight months earlier. In tribute the 2005 RIBA President, George Ferguson, said of Feilden: \"He showed that good architecture needn\\'t be showy or iconic. What is great about his practice is that, although Richard led from the front, it wasn\\'t reliant on one single person. They\\'re the one firm we lose to graciously.\"', 'score': '1.4562211'}, {'id': '25520532', 'title': 'Feilden Clegg Bradley Studios', 'text': ' The Richard Feilden Foundation was set up in memory of Richard Feilden in 2005. The charity’s mission is to support sustainable architecture and education projects in Africa, promoting community involvement and the use of African expertise and technologies. The charity uses the skills and knowledge of the practice to work with like-minded organisations. Projects include an HIV Training Clinic in Mzuzu Malawi, Rubengera Technical Secondary School in Rwanda and a number of schools in Uganda.', 'score': '1.4467373'}]}\n"
     ]
    }
   ],
   "source": [
    "import jsonlines\n",
    "import json\n",
    "import numpy as np\n",
    "import os\n",
    "from scripts.utils import load_jsonlines\n",
    "\n",
    "# path = '/home/minqi/code/S2RAG/data_eval/arc_challenge_processed.jsonl'\n",
    "path = '/home/minqi/code/S2RAG/data_eval/popqa_longtail_w_gs.jsonl'\n",
    "outpath = path.split('.jsonl')[0] + '_example.jsonl'\n",
    "\n",
    "data = load_jsonlines(path)\n",
    "# sample 100 data as example\n",
    "new_data = data[:100]\n",
    "print(len(new_data))\n",
    "print(new_data[0])\n",
    "\n",
    "with open(outpath, 'w') as f:\n",
    "    for item in new_data:\n",
    "        json.dump(item, f)\n",
    "        f.write('\\n')"
   ]
  },
  {
   "cell_type": "markdown",
   "metadata": {},
   "source": [
    "## check output format"
   ]
  },
  {
   "cell_type": "code",
   "execution_count": 2,
   "metadata": {},
   "outputs": [
    {
     "name": "stdout",
     "output_type": "stream",
     "text": [
      "dict_keys(['prompts', 'no_retrieval', 'no_retrieval_ids', 'no_retrieval_log_probs', 'all_doc_retrieval', 'all_doc_retrieval_ids', 'all_doc_retrieval_log_probs', 'retrieval_res', 'question_id', 'gold'])\n",
      "['politician', 'political leader', 'political figure', 'polit.', 'pol']\n",
      "{'retrieval_0': {'pred': ' According to the text, Henry Feilden was a Conservative politician.', 'score': 0.9677050011500425, 'id_log_probs': [-1.7165990357170813e-05, -0.021438410505652428, -2.3841855067985307e-07, -5.006777428206988e-06, -0.2196231633424759, -0.006808179430663586, -5.483612312673358e-06, -0.0016095790779218078, -1.2516897186287679e-05, -5.960462772236497e-07, -0.038974545896053314, -0.06197276711463928, -0.042683664709329605, -9.536738616588991e-07, -0.04314115643501282, -0.088954396545887], 'token_ids': [29871, 7579, 304, 278, 1426, 29892, 6498, 5169, 789, 264, 471, 263, 15312, 1230, 14099, 29889, 2, 2, 2, 2], 'evidence': {'id': '11341299', 'title': 'Henry Feilden (Conservative politician)', 'text': ' Henry Master Feilden (21 February 1818 – 5 September 1875) was an English Conservative Party politician.', 'score': '1.6985543'}}, 'retrieval_1': {'pred': \" According to the information provided, Henry Feilden's occupation is not specified. There is\", 'score': 0.900886005956037, 'id_log_probs': [-0.00026973424246534705, -0.6639809608459473, -3.576278118089249e-07, -3.158996332786046e-05, -0.10919797420501709, -2.706014311115723e-05, -0.07955426722764969, -0.00026890001026913524, -8.106198947643861e-06, -4.172316494077677e-06, -1.1920928244535389e-07, -0.19511745870113373, -6.6756979322235566e-06, -0.00017736769223120064, -0.0002416080387774855, -0.10636899620294571, -0.1361597776412964, -0.001979893073439598, -0.099555104970932, -0.6945808529853821], 'token_ids': [29871, 7579, 304, 278, 2472, 4944, 29892, 6498, 5169, 789, 264, 29915, 29879, 26818, 338, 451, 6790, 29889, 1670, 338], 'evidence': {'id': '3064835', 'title': 'Feilden', 'text': 'Bernard Feilden (1919–2008), British conservation architect ; Bob Feilden (1917–2004), British mechanical engineer ; Gerry Feilden (1904–1981), British general and horse racing identity ; Henry Feilden (disambiguation) ; Joseph Feilden (1824–1895), British politician ; Richard Feilden (1950–2005), British architect ; William Feilden (1772–1850), British politician ', 'score': '1.5850108'}}, 'retrieval_2': {'pred': \" According to the text, Henry Feilden's occupation is Arctic explorer.\", 'score': 0.9039408605915098, 'id_log_probs': [-7.271740287251305e-06, -0.057559531182050705, -7.152555099310121e-07, -3.576278118089249e-07, -0.3049238622188568, -0.0008192281820811331, -6.556489552167477e-06, -0.6326525807380676, -5.483612312673358e-06, -1.1920928244535389e-07, -0.15828189253807068, -1.1920928244535389e-07, -2.0503786799963564e-05, -0.6326016783714294, -0.131787970662117, -2.3841855067985307e-07, -0.00014661667228210717, -2.50339189733495e-06, -1.823885577323381e-05], 'token_ids': [29871, 7579, 304, 278, 1426, 29892, 6498, 5169, 789, 264, 29915, 29879, 26818, 338, 826, 20009, 3902, 9386, 29889, 2], 'evidence': {'id': '14189134', 'title': 'Feilden baronets', 'text': ' Henry Wemyss Feilden, second son of the second Baronet, was an Arctic explorer.', 'score': '1.572508'}}, 'retrieval_3': {'pred': \" According to the text, Henry Feilden's occupation is architect.\", 'score': 0.9848871430004389, 'id_log_probs': [-2.7418097943154862e-06, -0.07104984670877457, -7.152555099310121e-07, -3.576278118089249e-07, -0.04116041585803032, -0.0008163695456460118, -7.867782187531702e-06, -7.652943895664066e-05, -1.549708758830093e-05, -5.960462772236497e-07, -0.020650388672947884, -1.1920928244535389e-07, -1.5735502529423684e-05, -4.017272294731811e-05, -0.10979652404785156, -1.764281842042692e-05], 'token_ids': [29871, 7579, 304, 278, 1426, 29892, 6498, 5169, 789, 264, 29915, 29879, 26818, 338, 6956, 29889, 2, 2, 2, 2], 'evidence': {'id': '13370826', 'title': 'Bernard Feilden', 'text': ' Feilden was born in Hampstead, London. He was educated at Bedford School and The Bartlett School of Architecture, University College, London, completing his training at the Architectural Association after the second world war. His love of architecture was inherited from his grandfather, Brightwen Binyon (1846-1905), an Ipswich architect and former pupil of Alfred Waterhouse. He joined the practice of Edward Boardman and Son in Norwich, where he designed the Trinity United Reformed Church. He set up an architectural practice, Feilden+Mawson, with David Mawson in 1956, to which offices in Norwich, London and Cambridge were later added. In 1968 Feilden took over as consultant architect to the University ', 'score': '1.544341'}}, 'retrieval_4': {'pred': \" According to the text, Henry Wemyss Feilden's occupation was:\\n\\n\", 'score': 0.977649615770644, 'id_log_probs': [-4.887569048150908e-06, -0.08949171751737595, -4.768370445162873e-07, -3.576278118089249e-07, -0.11807693541049957, -0.0036448491737246513, -0.0010531361913308501, -0.03366674855351448, -1.3589766240329482e-05, -1.1920922133867862e-06, -5.483612312673358e-06, -6.556489552167477e-06, -3.576278118089249e-07, -0.03367343544960022, -7.152531907195225e-06, -9.226373367710039e-05, -0.1426912099123001, -0.02964557334780693, -2.861018856492592e-06, 0.0], 'token_ids': [29871, 7579, 304, 278, 1426, 29892, 6498, 399, 6764, 893, 5169, 789, 264, 29915, 29879, 26818, 471, 29901, 13, 13], 'evidence': {'id': '2423008', 'title': 'Henry Wemyss Feilden', 'text': ' Colonel Henry Wemyss Feilden, CB (6 October 1838 – 8 June 1921) was a British Army officer, Arctic explorer and naturalist.', 'score': '1.5208797'}}}\n",
      "====================================================================================================\n",
      " According to the text, Henry Feilden was a Conservative politician.\n"
     ]
    }
   ],
   "source": [
    "tasks = ['pqa', 'tqa', 'health', 'arc']\n",
    "choice = 0\n",
    "result_path = f'/home/minqi/code/S2RAG/minqi_inf_output/llama2chat-{tasks[choice]}-origin.json'\n",
    "\n",
    "with open(result_path, 'r') as f:\n",
    "    result = json.load(f)\n",
    "\n",
    "result = result['results']\n",
    "\n",
    "print(result[0].keys())\n",
    "print(result[0]['gold'])\n",
    "print(result[0]['retrieval_res'])\n",
    "print('='*100)\n",
    "print(result[0]['retrieval_res']['retrieval_0']['pred'])"
   ]
  },
  {
   "cell_type": "markdown",
   "metadata": {},
   "source": [
    "# 2. Adaptive Retrieval Analysis on example data"
   ]
  },
  {
   "cell_type": "markdown",
   "metadata": {},
   "source": [
    "This part is co-written by:\n",
    "\n",
    "Contributors:\n",
    "- Minqi Xiang (mx716@ic.ac.uk) Equally contributed\n",
    "- Zihan Zhu (zcabhub@ucl.ac.uk) Equally contributed\n",
    "\n",
    "Public Source: https://github.com/zhuzihan728/LLM_Adaptive_RAG\n",
    "Private Source: https://github.com/minqi1/S2RAG"
   ]
  },
  {
   "cell_type": "code",
   "execution_count": 3,
   "metadata": {},
   "outputs": [],
   "source": [
    "from scripts.metrics import *\n",
    "from sklearn.metrics import accuracy_score, log_loss\n",
    "import json\n",
    "\n",
    "def adp_ret_analysis(file_name, ret_p, task, model_name, interval=0.01):\n",
    "    if 'health' in file_name or 'arc' in file_name:\n",
    "        metric = loose_acc\n",
    "    else:\n",
    "        metric = loose_match\n",
    "    acc_point5 = 0\n",
    "    rf_point5 = 0\n",
    "    labels = []\n",
    "\n",
    "    # load data\n",
    "    res_dc = []\n",
    "    with open(file_name) as f:\n",
    "        original_data = json.load(f)\n",
    "\n",
    "        if type(original_data) == list:\n",
    "            res_dc = original_data\n",
    "        else:\n",
    "            res_dc = original_data['results']\n",
    "\n",
    "    for data_res in res_dc:\n",
    "        if metric_max_over_ground_truths(metric, data_res['no_retrieval'], data_res['gold']) > 0:\n",
    "            no_ret_acc = 1\n",
    "        else:\n",
    "            no_ret_acc = 0\n",
    "        hit = 0\n",
    "        for i in range(5):\n",
    "            if metric_max_over_ground_truths(metric, data_res[\"retrieval_res\"][f'retrieval_{i}']['pred'], data_res['gold']) > 0:\n",
    "                hit = 1\n",
    "                break\n",
    "        ret_acc = hit\n",
    "        if no_ret_acc > 0:\n",
    "            labels.append(0)\n",
    "        else:   \n",
    "            labels.append(1)\n",
    "        \n",
    "    draw_dc = {\"retrieval threshold\":[], \"retrieval freq\":[], \"self-adaptive acc\":[]}\n",
    "    for thres in [round(interval*i,2) for i in range(0, int(1/interval)+1)]:\n",
    "        retrieval_freq = np.sum((np.array(ret_p) - thres) > 0) / len(ret_p)\n",
    "        preds = (np.array(ret_p) - thres) > 0\n",
    "\n",
    "        selfadptive_acc = accuracy_score(labels, preds)\n",
    "        if abs(thres - 0.5) < 1e-5:\n",
    "            rf_point5 = round(retrieval_freq*100,1)\n",
    "            print(f\"thres: {thres}, retrieval_freq: {rf_point5}%, selfadptive_acc: {round(selfadptive_acc,2)}\")\n",
    "        draw_dc[\"retrieval threshold\"].append(thres)\n",
    "        draw_dc[\"retrieval freq\"].append(retrieval_freq)\n",
    "        draw_dc[\"self-adaptive acc\"].append(selfadptive_acc)\n",
    "    \n",
    "    draw_dc_ = {}\n",
    "    draw_dc_[\"retrieval threshold\"] = draw_dc[\"retrieval threshold\"] + draw_dc[\"retrieval threshold\"]\n",
    "    draw_dc_['metric'] = ['retrieval freq']*len(draw_dc[\"retrieval freq\"]) + ['self-adaptive acc']*len(draw_dc[\"self-adaptive acc\"])\n",
    "    draw_dc_['value'] = draw_dc[\"retrieval freq\"] + draw_dc[\"self-adaptive acc\"]\n",
    "    draw_dc_['title'] = [f\"{model_name} on {task}\"]*len(draw_dc_['value'])\n",
    "\n",
    "    return draw_dc_"
   ]
  },
  {
   "cell_type": "code",
   "execution_count": 4,
   "metadata": {},
   "outputs": [
    {
     "name": "stdout",
     "output_type": "stream",
     "text": [
      "processing origin, llama2chat\n",
      "successful_judgement_rate: 1.0\n",
      "thres: 0.5, retrieval_freq: 100.0%, selfadptive_acc: 0.59\n",
      "===finished===\n",
      "successful_judgement_2_7 1.0\n"
     ]
    }
   ],
   "source": [
    "files_dc = {\n",
    "'/home/minqi/code/S2RAG/minqi_inf_output/llama2chat-pqa-origin.json': '/home/minqi/code/S2RAG/minqi_inf_output/llama2chat-pqa-selfadp.json',\n",
    "# '/home/minqi/code/S2RAG/minqi_inf_output/llama2chat-arc-origin.json': '/home/minqi/code/S2RAG/minqi_inf_output/llama2chat-arc-selfadp.json',\n",
    "}\n",
    "\n",
    "out_dcs = []\n",
    "successful_judgement_2_7 = []\n",
    "successful_judgement_3 = []\n",
    "successful_judgement_selfrag = []\n",
    "\n",
    "for k, v in files_dc.items():\n",
    "    paths = [v]\n",
    "    for ret_p_path in paths:\n",
    "        with open(ret_p_path, 'r') as f:\n",
    "            ret_p_file = json.load(f)\n",
    "            ret_p = ret_p_file[\"retrieval_p\"]\n",
    "            ret_p_hard = ret_p_file[\"retrieval_p_hard\"]\n",
    "        path = k\n",
    "\n",
    "        successful_judgement = ret_p_file['has_judgment']\n",
    "        if 'llama2chat-' in k:\n",
    "            successful_judgement_2_7.extend(successful_judgement)\n",
    "            model_name = 'llama2chat'\n",
    "        elif 'llama3' in k:\n",
    "            successful_judgement_3.extend(successful_judgement)\n",
    "            model_name = 'llama3Ins'\n",
    "        else:\n",
    "            successful_judgement_selfrag.extend(successful_judgement)\n",
    "            model_name = 'selfrag'\n",
    "\n",
    "        task = k.split('-')[-1].split('.')[0] # ['pqa', 'tqa', 'health', 'arc']\n",
    "        print(f\"processing {task}, {model_name}\")\n",
    "        successful_judgement_rate = np.sum(successful_judgement) / len(successful_judgement)\n",
    "        print(f\"successful_judgement_rate: {successful_judgement_rate}\")\n",
    "        out_dc = adp_ret_analysis(k, ret_p, task, model_name, interval=0.01)\n",
    "        out_dcs.append(out_dc)\n",
    "    # plt.show()\n",
    "print('===finished===')\n",
    "print(\"successful_judgement_2_7\", np.sum(successful_judgement_2_7) / len(successful_judgement_2_7))\n",
    "# print(\"successful_judgement_3\", np.sum(successful_judgement_3) / len(successful_judgement_3))\n",
    "# print(\"successful_judgement_selfrag\", np.sum(successful_judgement_selfrag) / len(successful_judgement_selfrag))\n"
   ]
  },
  {
   "cell_type": "code",
   "execution_count": 5,
   "metadata": {},
   "outputs": [
    {
     "data": {
      "text/plain": [
       "Text(0.5, 0.98, 'Self-adaptive retrieval analysis')"
      ]
     },
     "execution_count": 5,
     "metadata": {},
     "output_type": "execute_result"
    },
    {
     "data": {
      "image/png": "[encoded data removed]",
      "text/plain": [
       "<Figure size 1968x300 with 1 Axes>"
      ]
     },
     "metadata": {},
     "output_type": "display_data"
    }
   ],
   "source": [
    "import pandas as pd\n",
    "import seaborn as sns\n",
    "\n",
    "final_dc = {\"retrieval threshold\":[], \"value\":[], \"title\":[], \"metric\":[]}\n",
    "\n",
    "for dc in out_dcs:\n",
    "    for k, v in dc.items():\n",
    "        try:\n",
    "            final_dc[k] += v\n",
    "        except:\n",
    "            pass\n",
    "\n",
    "df = pd.DataFrame(final_dc)\n",
    "\n",
    "filtered_df = df[df['metric'].isin(['self-adaptive acc', 'retrieval freq'])]\n",
    "\n",
    "g = sns.FacetGrid(filtered_df, col=\"title\", col_wrap=4, height=3, aspect=1.5)\n",
    "g.map(sns.lineplot, \"retrieval threshold\", \"value\", hue=\"metric\", data=df, sort=False,  errorbar=None, )\n",
    "\n",
    "g.add_legend()\n",
    "\n",
    "for ax in g.axes.flat:\n",
    "    ax.grid(True)\n",
    "    \n",
    "g.fig.subplots_adjust(top=0.9)\n",
    "g.fig.suptitle(f\"Self-adaptive retrieval analysis\")"
   ]
  },
  {
   "cell_type": "markdown",
   "metadata": {},
   "source": [
    "### change data format for later process"
   ]
  },
  {
   "cell_type": "code",
   "execution_count": 6,
   "metadata": {},
   "outputs": [
    {
     "name": "stdout",
     "output_type": "stream",
     "text": [
      "dict_keys(['prompts', 'no_retrieval', 'no_retrieval_ids', 'no_retrieval_log_probs', 'all_doc_retrieval', 'all_doc_retrieval_ids', 'all_doc_retrieval_log_probs', 'retrieval_res', 'question_id', 'gold'])\n",
      "['politician', 'political leader', 'political figure', 'polit.', 'pol']\n",
      "{'retrieval_0': {'pred': ' According to the text, Henry Feilden was a Conservative politician.', 'score': 0.9677050011500425, 'id_log_probs': [-1.7165990357170813e-05, -0.021438410505652428, -2.3841855067985307e-07, -5.006777428206988e-06, -0.2196231633424759, -0.006808179430663586, -5.483612312673358e-06, -0.0016095790779218078, -1.2516897186287679e-05, -5.960462772236497e-07, -0.038974545896053314, -0.06197276711463928, -0.042683664709329605, -9.536738616588991e-07, -0.04314115643501282, -0.088954396545887], 'token_ids': [29871, 7579, 304, 278, 1426, 29892, 6498, 5169, 789, 264, 471, 263, 15312, 1230, 14099, 29889, 2, 2, 2, 2], 'evidence': {'id': '11341299', 'title': 'Henry Feilden (Conservative politician)', 'text': ' Henry Master Feilden (21 February 1818 – 5 September 1875) was an English Conservative Party politician.', 'score': '1.6985543'}}, 'retrieval_1': {'pred': \" According to the information provided, Henry Feilden's occupation is not specified. There is\", 'score': 0.900886005956037, 'id_log_probs': [-0.00026973424246534705, -0.6639809608459473, -3.576278118089249e-07, -3.158996332786046e-05, -0.10919797420501709, -2.706014311115723e-05, -0.07955426722764969, -0.00026890001026913524, -8.106198947643861e-06, -4.172316494077677e-06, -1.1920928244535389e-07, -0.19511745870113373, -6.6756979322235566e-06, -0.00017736769223120064, -0.0002416080387774855, -0.10636899620294571, -0.1361597776412964, -0.001979893073439598, -0.099555104970932, -0.6945808529853821], 'token_ids': [29871, 7579, 304, 278, 2472, 4944, 29892, 6498, 5169, 789, 264, 29915, 29879, 26818, 338, 451, 6790, 29889, 1670, 338], 'evidence': {'id': '3064835', 'title': 'Feilden', 'text': 'Bernard Feilden (1919–2008), British conservation architect ; Bob Feilden (1917–2004), British mechanical engineer ; Gerry Feilden (1904–1981), British general and horse racing identity ; Henry Feilden (disambiguation) ; Joseph Feilden (1824–1895), British politician ; Richard Feilden (1950–2005), British architect ; William Feilden (1772–1850), British politician ', 'score': '1.5850108'}}, 'retrieval_2': {'pred': \" According to the text, Henry Feilden's occupation is Arctic explorer.\", 'score': 0.9039408605915098, 'id_log_probs': [-7.271740287251305e-06, -0.057559531182050705, -7.152555099310121e-07, -3.576278118089249e-07, -0.3049238622188568, -0.0008192281820811331, -6.556489552167477e-06, -0.6326525807380676, -5.483612312673358e-06, -1.1920928244535389e-07, -0.15828189253807068, -1.1920928244535389e-07, -2.0503786799963564e-05, -0.6326016783714294, -0.131787970662117, -2.3841855067985307e-07, -0.00014661667228210717, -2.50339189733495e-06, -1.823885577323381e-05], 'token_ids': [29871, 7579, 304, 278, 1426, 29892, 6498, 5169, 789, 264, 29915, 29879, 26818, 338, 826, 20009, 3902, 9386, 29889, 2], 'evidence': {'id': '14189134', 'title': 'Feilden baronets', 'text': ' Henry Wemyss Feilden, second son of the second Baronet, was an Arctic explorer.', 'score': '1.572508'}}, 'retrieval_3': {'pred': \" According to the text, Henry Feilden's occupation is architect.\", 'score': 0.9848871430004389, 'id_log_probs': [-2.7418097943154862e-06, -0.07104984670877457, -7.152555099310121e-07, -3.576278118089249e-07, -0.04116041585803032, -0.0008163695456460118, -7.867782187531702e-06, -7.652943895664066e-05, -1.549708758830093e-05, -5.960462772236497e-07, -0.020650388672947884, -1.1920928244535389e-07, -1.5735502529423684e-05, -4.017272294731811e-05, -0.10979652404785156, -1.764281842042692e-05], 'token_ids': [29871, 7579, 304, 278, 1426, 29892, 6498, 5169, 789, 264, 29915, 29879, 26818, 338, 6956, 29889, 2, 2, 2, 2], 'evidence': {'id': '13370826', 'title': 'Bernard Feilden', 'text': ' Feilden was born in Hampstead, London. He was educated at Bedford School and The Bartlett School of Architecture, University College, London, completing his training at the Architectural Association after the second world war. His love of architecture was inherited from his grandfather, Brightwen Binyon (1846-1905), an Ipswich architect and former pupil of Alfred Waterhouse. He joined the practice of Edward Boardman and Son in Norwich, where he designed the Trinity United Reformed Church. He set up an architectural practice, Feilden+Mawson, with David Mawson in 1956, to which offices in Norwich, London and Cambridge were later added. In 1968 Feilden took over as consultant architect to the University ', 'score': '1.544341'}}, 'retrieval_4': {'pred': \" According to the text, Henry Wemyss Feilden's occupation was:\\n\\n\", 'score': 0.977649615770644, 'id_log_probs': [-4.887569048150908e-06, -0.08949171751737595, -4.768370445162873e-07, -3.576278118089249e-07, -0.11807693541049957, -0.0036448491737246513, -0.0010531361913308501, -0.03366674855351448, -1.3589766240329482e-05, -1.1920922133867862e-06, -5.483612312673358e-06, -6.556489552167477e-06, -3.576278118089249e-07, -0.03367343544960022, -7.152531907195225e-06, -9.226373367710039e-05, -0.1426912099123001, -0.02964557334780693, -2.861018856492592e-06, 0.0], 'token_ids': [29871, 7579, 304, 278, 1426, 29892, 6498, 399, 6764, 893, 5169, 789, 264, 29915, 29879, 26818, 471, 29901, 13, 13], 'evidence': {'id': '2423008', 'title': 'Henry Wemyss Feilden', 'text': ' Colonel Henry Wemyss Feilden, CB (6 October 1838 – 8 June 1921) was a British Army officer, Arctic explorer and naturalist.', 'score': '1.5208797'}}}\n",
      "====================================================================================================\n",
      " According to the text, Henry Feilden was a Conservative politician.\n"
     ]
    }
   ],
   "source": [
    "\n",
    "tasks = ['pqa', 'tqa', 'health', 'arc']\n",
    "choice = 0\n",
    "\n",
    "result_path = f'/home/minqi/code/S2RAG/minqi_inf_output/llama2chat-{tasks[choice]}-origin.json'\n",
    "\n",
    "with open(result_path, 'r') as f:\n",
    "    json_file = json.load(f)\n",
    "df1 = pd.DataFrame(json_file)\n",
    "\n",
    "print(result[0].keys())\n",
    "print(result[0]['gold'])\n",
    "print(result[0]['retrieval_res'])\n",
    "print('='*100)\n",
    "print(result[0]['retrieval_res']['retrieval_0']['pred'])"
   ]
  },
  {
   "cell_type": "code",
   "execution_count": 7,
   "metadata": {},
   "outputs": [
    {
     "name": "stdout",
     "output_type": "stream",
     "text": [
      "100\n"
     ]
    }
   ],
   "source": [
    "keys = ['no_retrieval', 'no_retrieval_ids', 'no_retrieval_log_probs',\n",
    "       'all_doc_retrieval', 'all_doc_retrieval_ids',\n",
    "       'all_doc_retrieval_log_probs', 'retrieval_res', 'question_id', 'gold',\n",
    "       'question', 'ret_0', 'ret_0_log_probs', 'ret_0_ctx', 'ret_0_ctx_score',\n",
    "       'ret_0_scores', 'ret_1', 'ret_1_log_probs', 'ret_1_ctx',\n",
    "       'ret_1_ctx_score', 'ret_1_scores', 'ret_2', 'ret_2_log_probs',\n",
    "       'ret_2_ctx', 'ret_2_ctx_score', 'ret_2_scores', 'ret_3',\n",
    "       'ret_3_log_probs', 'ret_3_ctx', 'ret_3_ctx_score', 'ret_3_scores',\n",
    "       'ret_4', 'ret_4_log_probs', 'ret_4_ctx', 'ret_4_ctx_score',\n",
    "       'ret_4_scores']\n",
    "\n",
    "result = {key: [] for key in keys}\n",
    "for i in range(len(df1)):\n",
    "    result['no_retrieval'].append(df1['results'][i]['no_retrieval'])\n",
    "    result['no_retrieval_ids'].append(df1['results'][i]['no_retrieval_ids'])  \n",
    "    result['no_retrieval_log_probs'].append(df1['results'][i]['no_retrieval_log_probs'])\n",
    "    result['all_doc_retrieval'].append(df1['results'][i]['all_doc_retrieval'])\n",
    "    result['all_doc_retrieval_ids'].append(df1['results'][i]['all_doc_retrieval_ids'])\n",
    "    result['all_doc_retrieval_log_probs'].append(df1['results'][i]['all_doc_retrieval_log_probs'])\n",
    "    # result['retrieval'].append(df1['results'][i]['retrieval'])\n",
    "    # result['retrieval_token_ids'].append(df1['results'][i]['retrieval_token_ids'])\n",
    "    # result['retrieval_log_probs'].append(df1['results'][i]['retrieval_log_probs'])\n",
    "    result['retrieval_res'].append(df1['results'][i]['retrieval_res'])\n",
    "    result['question_id'].append(df1['results'][i]['question_id'])\n",
    "    result['gold'].append(df1['results'][i]['gold'])\n",
    "    result['question'].append(df1['results'][i]['prompts']['no_retrieval'][0].replace('[INST]', '').replace('[/INST]', '').replace('<s>', '').replace('</s>', '').strip())\n",
    "    \n",
    "    result['ret_0'].append(df1['results'][i]['retrieval_res']['retrieval_0']['pred'])\n",
    "    result['ret_0_log_probs'].append(df1['results'][i]['retrieval_res']['retrieval_0']['id_log_probs'])\n",
    "    ret_0_evid = df1['results'][i]['retrieval_res']['retrieval_0']['evidence']\n",
    "    result['ret_0_ctx'].append(ret_0_evid['title'] + '\\n' + ret_0_evid['text'])\n",
    "    result['ret_0_ctx_score'].append(ret_0_evid['score'])\n",
    "    result['ret_0_scores'].append(None)\n",
    "    \n",
    "    result['ret_1'].append(df1['results'][i]['retrieval_res']['retrieval_1']['pred'])\n",
    "    result['ret_1_log_probs'].append(df1['results'][i]['retrieval_res']['retrieval_1']['id_log_probs'])\n",
    "    ret_1_evid = df1['results'][i]['retrieval_res']['retrieval_1']['evidence']\n",
    "    result['ret_1_ctx'].append(ret_1_evid['title'] + '\\n' + ret_1_evid['text'])\n",
    "    result['ret_1_ctx_score'].append(ret_1_evid['score'])\n",
    "    result['ret_1_scores'].append(None)\n",
    "\n",
    "    result['ret_2'].append(df1['results'][i]['retrieval_res']['retrieval_2']['pred'])\n",
    "    result['ret_2_log_probs'].append(df1['results'][i]['retrieval_res']['retrieval_2']['id_log_probs'])\n",
    "    ret_2_evid = df1['results'][i]['retrieval_res']['retrieval_2']['evidence']\n",
    "    result['ret_2_ctx'].append(ret_2_evid['title'] + '\\n' + ret_2_evid['text'])\n",
    "    result['ret_2_ctx_score'].append(ret_2_evid['score'])\n",
    "    result['ret_2_scores'].append(None)\n",
    "\n",
    "    result['ret_3'].append(df1['results'][i]['retrieval_res']['retrieval_3']['pred'])\n",
    "    result['ret_3_log_probs'].append(df1['results'][i]['retrieval_res']['retrieval_3']['id_log_probs'])\n",
    "    ret_3_evid = df1['results'][i]['retrieval_res']['retrieval_3']['evidence']\n",
    "    result['ret_3_ctx'].append(ret_3_evid['title'] + '\\n' + ret_3_evid['text'])\n",
    "    result['ret_3_ctx_score'].append(ret_3_evid['score'])\n",
    "    result['ret_3_scores'].append(None)\n",
    "\n",
    "    result['ret_4'].append(df1['results'][i]['retrieval_res']['retrieval_4']['pred'])\n",
    "    result['ret_4_log_probs'].append(df1['results'][i]['retrieval_res']['retrieval_4']['id_log_probs'])\n",
    "    ret_4_evid = df1['results'][i]['retrieval_res']['retrieval_4']['evidence']\n",
    "    result['ret_4_ctx'].append(ret_4_evid['title'] + '\\n' + ret_4_evid['text'])\n",
    "    result['ret_4_ctx_score'].append(ret_4_evid['score'])\n",
    "    result['ret_4_scores'].append(None)\n",
    "    \n",
    "# convert dict of list to list of dict\n",
    "list_of_dict = []\n",
    "\n",
    "keys = result.keys()\n",
    "length = len(result['no_retrieval'])\n",
    "print(length)\n",
    "for i in range(length):\n",
    "    new_dict = {}\n",
    "    for key in keys:\n",
    "        new_dict[key] = result[key][i]\n",
    "    list_of_dict.append(new_dict)"
   ]
  },
  {
   "cell_type": "code",
   "execution_count": 8,
   "metadata": {},
   "outputs": [],
   "source": [
    "# output the results\n",
    "output_path = result_path.replace('-origin.json', '.json')\n",
    "with open(output_path, 'w') as f:\n",
    "    json.dump(list_of_dict, f)"
   ]
  },
  {
   "cell_type": "markdown",
   "metadata": {},
   "source": [
    "# 3. Confidence RAG analysis on example data"
   ]
  },
  {
   "cell_type": "code",
   "execution_count": 9,
   "metadata": {},
   "outputs": [],
   "source": [
    "# simple calculation on the accuracy\n",
    "import json\n",
    "import pandas as pd\n",
    "model = 'llama2-7b' # 'llama2-7b' or 'llama3-8b'\n",
    "choice = 0\n",
    "\n",
    "tasks = ['pqa', 'tqa', 'health', 'arc']\n",
    "if 'llama2' in model and '7' in model:\n",
    "    path = f'/home/minqi/code/S2RAG/minqi_inf_output/llama2chat-{tasks[choice]}.json'\n",
    "elif 'llama3' in model:\n",
    "    path = f'/home/minqi/code/S2RAG/minqi_inf_output/llama3Ins-{tasks[choice]}.json'\n",
    "elif 'selfrag' in model:\n",
    "    path = f'/home/minqi/code/S2RAG/minqi_inf_output/selfrag-{tasks[choice]}.json'\n",
    "\n",
    "with open(path) as f:\n",
    "    json_file = json.load(f)\n",
    "\n",
    "df = pd.DataFrame(json_file)"
   ]
  },
  {
   "cell_type": "markdown",
   "metadata": {},
   "source": [
    "metrics"
   ]
  },
  {
   "cell_type": "code",
   "execution_count": 10,
   "metadata": {},
   "outputs": [
    {
     "name": "stdout",
     "output_type": "stream",
     "text": [
      "Resuls for Confidence RAG:  llama2-7b pqa\n",
      "loose_match 27.0\n"
     ]
    }
   ],
   "source": [
    "def compute_confidence(log_probs):\n",
    "    '''\n",
    "    log_probs: List[float]\n",
    "    '''\n",
    "    return np.mean(np.exp(log_probs))\n",
    "\n",
    "prefix = ['no_retrieval', 'ret_0', 'ret_1', 'ret_2', 'ret_3', 'ret_4']\n",
    "answers = []\n",
    "for item in json_file:\n",
    "    cfd = [compute_confidence(item[pre + '_log_probs']) for pre in prefix] \n",
    "    max_pos = np.argmax(cfd)\n",
    "    answers.append(item[prefix[max_pos]])\n",
    "golds = df['gold']\n",
    "\n",
    "scores = []\n",
    "for i in range(len(answers)):\n",
    "    if choice in [0,1]:\n",
    "        metric = 'loose_match'\n",
    "        score_ = metric_max_over_ground_truths(loose_match, answers[i], golds[i])\n",
    "    else:\n",
    "        metric = 'loose_acc'\n",
    "        score_ = metric_max_over_ground_truths(loose_acc, answers[i], golds[i])\n",
    "    scores.append(score_)\n",
    "\n",
    "print('Resuls for Confidence RAG: ', model, tasks[choice])\n",
    "print(f'{metric} {np.mean(scores)*100:.1f}')"
   ]
  },
  {
   "cell_type": "markdown",
   "metadata": {},
   "source": [
    "boxplot for confidence distribution"
   ]
  },
  {
   "cell_type": "code",
   "execution_count": 11,
   "metadata": {},
   "outputs": [
    {
     "data": {
      "image/png": "[encoded data removed]",
      "text/plain": [
       "<Figure size 1000x600 with 1 Axes>"
      ]
     },
     "metadata": {},
     "output_type": "display_data"
    }
   ],
   "source": [
    "# confdidence distrubution of each prefix: box plot\n",
    "import matplotlib.pyplot as plt\n",
    "import seaborn as sns\n",
    "import numpy as np\n",
    "import pandas as pd\n",
    "cfd_no = []\n",
    "cfd_0 = []\n",
    "cfd_1 = []\n",
    "cfd_2 = []\n",
    "cfd_3 = []\n",
    "cfd_4 = []\n",
    "\n",
    "prefix = ['no_retrieval', 'ret_0', 'ret_1', 'ret_2', 'ret_3', 'ret_4']\n",
    "answers = []\n",
    "for item in json_file:\n",
    "    cfd = [compute_confidence(item[pre + '_log_probs']) for pre in prefix] \n",
    "    cfd_no.append(cfd[0])\n",
    "    cfd_0.append(cfd[1])\n",
    "    cfd_1.append(cfd[2])\n",
    "    cfd_2.append(cfd[3])\n",
    "    cfd_3.append(cfd[4])\n",
    "    cfd_4.append(cfd[5])\n",
    "\n",
    "df_cfd = pd.DataFrame({'no_retrieval': cfd_no, 'retrieval_0': cfd_0, 'retrieval_1': cfd_1, 'retrieval_2': cfd_2, 'retrieval_3': cfd_3, 'retrieval_4': cfd_4})\n",
    "\n",
    "plt.figure(figsize=(10, 6))\n",
    "sns.boxplot(data=df_cfd)\n",
    "plt.ylabel('Confidence')\n",
    "plt.xlabel('Method')\n",
    "plt.title(f'Confidence Distribution of Each Retrieval Method on {tasks[choice]}, {model}')\n",
    "plt.show()"
   ]
  },
  {
   "cell_type": "markdown",
   "metadata": {},
   "source": [
    "# 4. Self-evaluation RAG analysis on example data"
   ]
  },
  {
   "cell_type": "code",
   "execution_count": 12,
   "metadata": {},
   "outputs": [
    {
     "ename": "FileNotFoundError",
     "evalue": "[Errno 2] No such file or directory: 'minqi_inf_output/llama2chat-pqa-final_rec_SEnCFD.json'",
     "output_type": "error",
     "traceback": [
      "\u001b[0;31m---------------------------------------------------------------------------\u001b[0m",
      "\u001b[0;31mFileNotFoundError\u001b[0m                         Traceback (most recent call last)",
      "Cell \u001b[0;32mIn[12], line 17\u001b[0m\n\u001b[1;32m     14\u001b[0m     res_path \u001b[38;5;241m=\u001b[39m \u001b[38;5;124mf\u001b[39m\u001b[38;5;124m'\u001b[39m\u001b[38;5;124mminqi_inf_output/selfrag-\u001b[39m\u001b[38;5;132;01m{\u001b[39;00mtasks[choice]\u001b[38;5;132;01m}\u001b[39;00m\u001b[38;5;124m-final_rec_SEnCFD.json\u001b[39m\u001b[38;5;124m'\u001b[39m\n\u001b[1;32m     15\u001b[0m     auxilary_path \u001b[38;5;241m=\u001b[39m \u001b[38;5;124mf\u001b[39m\u001b[38;5;124m'\u001b[39m\u001b[38;5;124mminqi_inf_output/selfrag-\u001b[39m\u001b[38;5;132;01m{\u001b[39;00mtasks[choice]\u001b[38;5;132;01m}\u001b[39;00m\u001b[38;5;124m.json\u001b[39m\u001b[38;5;124m'\u001b[39m\n\u001b[0;32m---> 17\u001b[0m \u001b[38;5;28;01mwith\u001b[39;00m \u001b[38;5;28;43mopen\u001b[39;49m\u001b[43m(\u001b[49m\u001b[43mres_path\u001b[49m\u001b[43m)\u001b[49m \u001b[38;5;28;01mas\u001b[39;00m f:\n\u001b[1;32m     18\u001b[0m     json_file \u001b[38;5;241m=\u001b[39m json\u001b[38;5;241m.\u001b[39mload(f)\n\u001b[1;32m     20\u001b[0m \u001b[38;5;28;01mwith\u001b[39;00m \u001b[38;5;28mopen\u001b[39m(auxilary_path) \u001b[38;5;28;01mas\u001b[39;00m f:\n",
      "File \u001b[0;32m~/miniconda3/lib/python3.12/site-packages/IPython/core/interactiveshell.py:324\u001b[0m, in \u001b[0;36m_modified_open\u001b[0;34m(file, *args, **kwargs)\u001b[0m\n\u001b[1;32m    317\u001b[0m \u001b[38;5;28;01mif\u001b[39;00m file \u001b[38;5;129;01min\u001b[39;00m {\u001b[38;5;241m0\u001b[39m, \u001b[38;5;241m1\u001b[39m, \u001b[38;5;241m2\u001b[39m}:\n\u001b[1;32m    318\u001b[0m     \u001b[38;5;28;01mraise\u001b[39;00m \u001b[38;5;167;01mValueError\u001b[39;00m(\n\u001b[1;32m    319\u001b[0m         \u001b[38;5;124mf\u001b[39m\u001b[38;5;124m\"\u001b[39m\u001b[38;5;124mIPython won\u001b[39m\u001b[38;5;124m'\u001b[39m\u001b[38;5;124mt let you open fd=\u001b[39m\u001b[38;5;132;01m{\u001b[39;00mfile\u001b[38;5;132;01m}\u001b[39;00m\u001b[38;5;124m by default \u001b[39m\u001b[38;5;124m\"\u001b[39m\n\u001b[1;32m    320\u001b[0m         \u001b[38;5;124m\"\u001b[39m\u001b[38;5;124mas it is likely to crash IPython. If you know what you are doing, \u001b[39m\u001b[38;5;124m\"\u001b[39m\n\u001b[1;32m    321\u001b[0m         \u001b[38;5;124m\"\u001b[39m\u001b[38;5;124myou can use builtins\u001b[39m\u001b[38;5;124m'\u001b[39m\u001b[38;5;124m open.\u001b[39m\u001b[38;5;124m\"\u001b[39m\n\u001b[1;32m    322\u001b[0m     )\n\u001b[0;32m--> 324\u001b[0m \u001b[38;5;28;01mreturn\u001b[39;00m \u001b[43mio_open\u001b[49m\u001b[43m(\u001b[49m\u001b[43mfile\u001b[49m\u001b[43m,\u001b[49m\u001b[43m \u001b[49m\u001b[38;5;241;43m*\u001b[39;49m\u001b[43margs\u001b[49m\u001b[43m,\u001b[49m\u001b[43m \u001b[49m\u001b[38;5;241;43m*\u001b[39;49m\u001b[38;5;241;43m*\u001b[39;49m\u001b[43mkwargs\u001b[49m\u001b[43m)\u001b[49m\n",
      "\u001b[0;31mFileNotFoundError\u001b[0m: [Errno 2] No such file or directory: 'minqi_inf_output/llama2chat-pqa-final_rec_SEnCFD.json'"
     ]
    }
   ],
   "source": [
    "# ablation results\n",
    "model = 'llama2-7b' # 'llama2-7b', 'llama3-8b' or 'selfrag'\n",
    "choice = 0\n",
    "\n",
    "tasks = ['pqa', 'tqa', 'health', 'arc']\n",
    "\n",
    "if 'llama3' in model:\n",
    "    res_path = f'minqi_inf_output/llama3Ins-{tasks[choice]}-final_rec_SEnCFD.json'\n",
    "    auxilary_path = f'minqi_inf_output/llama3Ins-{tasks[choice]}.json'\n",
    "elif 'llama2' in model:\n",
    "    res_path = f'minqi_inf_output/llama2chat-{tasks[choice]}-final_rec_SEnCFD.json'\n",
    "    auxilary_path = f'minqi_inf_output/llama2chat-{tasks[choice]}.json'\n",
    "elif'selfrag' in model:\n",
    "    res_path = f'minqi_inf_output/selfrag-{tasks[choice]}-final_rec_SEnCFD.json'\n",
    "    auxilary_path = f'minqi_inf_output/selfrag-{tasks[choice]}.json'\n",
    "\n",
    "with open(res_path) as f:\n",
    "    json_file = json.load(f)\n",
    "\n",
    "with open(auxilary_path) as f:\n",
    "    json_file_aux = json.load(f)\n",
    "\n",
    "df = pd.DataFrame(json_file)\n",
    "df = df['results']\n",
    "\n",
    "df_aux = pd.DataFrame(json_file_aux)"
   ]
  },
  {
   "cell_type": "markdown",
   "metadata": {},
   "source": [
    "metrics"
   ]
  },
  {
   "cell_type": "code",
   "execution_count": 63,
   "metadata": {},
   "outputs": [
    {
     "name": "stdout",
     "output_type": "stream",
     "text": [
      "Resuls for SE RAG:  llama2-7b arc\n",
      "loose_acc 53.0\n"
     ]
    }
   ],
   "source": [
    "answers = []\n",
    "\n",
    "prefix = ['no_retrieval', 'ret_0', 'ret_1', 'ret_2', 'ret_3', 'ret_4']\n",
    "\n",
    "for i in range(len(df['chosen_ans'])):\n",
    "    cur_ans_prefix = df['chosen_ans'][i]\n",
    "    cur_ans = df_aux[cur_ans_prefix][i]\n",
    "\n",
    "    answers.append(cur_ans)\n",
    "\n",
    "scores = []\n",
    "golds = df['golds']\n",
    "for i in range(len(answers)):\n",
    "    if choice in [0,1]:\n",
    "        metric = 'loose_match'\n",
    "        score_ = metric_max_over_ground_truths(loose_match, answers[i], golds[i])\n",
    "    else:\n",
    "        metric = 'loose_acc'\n",
    "        score_ = metric_max_over_ground_truths(loose_acc, answers[i], golds[i])\n",
    "    scores.append(score_)\n",
    "print('Resuls for SE RAG: ', model, tasks[choice])\n",
    "print(f'{metric} {np.mean(scores)*100:.1f}')\n"
   ]
  },
  {
   "cell_type": "markdown",
   "metadata": {},
   "source": [
    "violin plot for SE score distribution"
   ]
  },
  {
   "cell_type": "code",
   "execution_count": 64,
   "metadata": {},
   "outputs": [
    {
     "name": "stderr",
     "output_type": "stream",
     "text": [
      "/tmp/ipykernel_2693346/3586489209.py:18: FutureWarning: \n",
      "\n",
      "Passing `palette` without assigning `hue` is deprecated and will be removed in v0.14.0. Assign the `x` variable to `hue` and set `legend=False` for the same effect.\n",
      "\n",
      "  sns.violinplot(x='Retrieval Method', y='Score', data=df_melted, palette='pastel')\n"
     ]
    },
    {
     "data": {
      "image/png": "[encoded data removed]",
      "text/plain": [
       "<Figure size 450x450 with 1 Axes>"
      ]
     },
     "metadata": {},
     "output_type": "display_data"
    }
   ],
   "source": [
    "from matplotlib.ticker import FuncFormatter\n",
    "\n",
    "global_record = df['global_record']\n",
    "# plot the global record: plot for hist distribution of global record\n",
    "def get_score(record, i):\n",
    "    ret = [item[i] for item in record]\n",
    "    return ret\n",
    "\n",
    "def one_decimals(x, pos):\n",
    "    return f'{x:.1f}'\n",
    "\n",
    "df_se = pd.DataFrame({'no_ret': get_score(global_record, 0), 'ret_0': get_score(global_record, 1), 'ret_1': get_score(global_record, 2), 'ret_2': get_score(global_record, 3), 'ret_3': get_score(global_record, 4), 'ret_4': get_score(global_record, 5)})\n",
    "df_melted = df_se.melt(var_name='Retrieval Method', value_name='Score')\n",
    "\n",
    "# Plot\n",
    "# Plot\n",
    "plt.figure(figsize=(4.5, 4.5))\n",
    "sns.violinplot(x='Retrieval Method', y='Score', data=df_melted, palette='pastel')\n",
    "plt.gca().set_ylim(bottom=0, top=10)\n",
    "plt.gca().yaxis.set_major_formatter(FuncFormatter(one_decimals))\n",
    "plt.ylabel('SE Score', fontsize=12)\n",
    "plt.xlabel('Method', fontsize=12)\n",
    "plt.xticks(fontsize=12)\n",
    "plt.yticks(fontsize=12)\n",
    "plt.title(f'{tasks[choice].upper()}, {model.capitalize()}', fontsize=12)\n",
    "plt.subplots_adjust(left=0.17, right=0.99, top=0.91, bottom=0.11)\n",
    "plt.show()\n"
   ]
  },
  {
   "cell_type": "markdown",
   "metadata": {},
   "source": [
    "# 5. Standard RAG (Top retrieval) + No Retrieval"
   ]
  },
  {
   "cell_type": "code",
   "execution_count": 15,
   "metadata": {},
   "outputs": [],
   "source": [
    "# ablation results\n",
    "model = 'llama2-7b' # 'llama2-7b', 'llama3-8b' or 'selfrag'\n",
    "choice = 0\n",
    "chosen_ret = ['no_retrieval', 'ret_0'] # 'ret_0' or 'no_retrieval'\n",
    "\n",
    "tasks = ['pqa', 'tqa', 'health', 'arc']\n",
    "\n",
    "if 'llama3' in model:\n",
    "    res_path = f'minqi_inf_output/llama3Ins-{tasks[choice]}-final_rec.json'\n",
    "    auxilary_path = f'minqi_inf_output/llama3Ins-{tasks[choice]}.json'\n",
    "elif 'llama2' in model:\n",
    "    res_path = f'minqi_inf_output/llama2chat-{tasks[choice]}-final_rec.json'\n",
    "    auxilary_path = f'minqi_inf_output/llama2chat-{tasks[choice]}.json'\n",
    "elif'selfrag' in model:\n",
    "    res_path = f'minqi_inf_output/selfrag-{tasks[choice]}-final_rec.json'\n",
    "    auxilary_path = f'minqi_inf_output/selfrag-{tasks[choice]}.json'\n",
    "\n",
    "with open(res_path) as f:\n",
    "    json_file = json.load(f)\n",
    "\n",
    "with open(auxilary_path) as f:\n",
    "    json_file_aux = json.load(f)\n",
    "\n",
    "df = pd.DataFrame(json_file)\n",
    "df = df['results']\n",
    "\n",
    "df_aux = pd.DataFrame(json_file_aux)"
   ]
  },
  {
   "cell_type": "code",
   "execution_count": 16,
   "metadata": {},
   "outputs": [
    {
     "name": "stdout",
     "output_type": "stream",
     "text": [
      "Resuls for no_retrieval: llama2-7b pqa\n",
      "loose_match 41.0\n",
      "====================================================================================================\n",
      "Resuls for ret_0: llama2-7b pqa\n",
      "loose_match 49.0\n",
      "====================================================================================================\n"
     ]
    }
   ],
   "source": [
    "for chosen_ in chosen_ret:\n",
    "    answers = []\n",
    "    for i in range(len(df['chosen_ans'])):\n",
    "        cur_ans_prefix = chosen_\n",
    "        cur_ans = df_aux[cur_ans_prefix][i]\n",
    "        answers.append(cur_ans)\n",
    "\n",
    "    scores = []\n",
    "    golds = df['golds']\n",
    "    for i in range(len(answers)):\n",
    "        if choice in [0,1]:\n",
    "            metric = 'loose_match'\n",
    "            score_ = metric_max_over_ground_truths(loose_match, answers[i], golds[i])\n",
    "        else:\n",
    "            metric = 'loose_acc'\n",
    "            score_ = metric_max_over_ground_truths(loose_acc, answers[i], golds[i])\n",
    "        scores.append(score_)\n",
    "    print(f'Resuls for {chosen_}:', model, tasks[choice])\n",
    "    print(f'{metric} {np.mean(scores)*100:.1f}')\n",
    "    print('='*100)\n"
   ]
  },
  {
   "cell_type": "markdown",
   "metadata": {},
   "source": [
    "# 6. S2RAG"
   ]
  },
  {
   "cell_type": "markdown",
   "metadata": {},
   "source": [
    "## Origin S2RAG"
   ]
  },
  {
   "cell_type": "code",
   "execution_count": 28,
   "metadata": {},
   "outputs": [
    {
     "name": "stdout",
     "output_type": "stream",
     "text": [
      "Resuls for S2RAG: llama2-7b pqa\n",
      "loose_match 47.0\n",
      "NGPQ (number of generations per query): 4.6\n"
     ]
    }
   ],
   "source": [
    "# ablation results\n",
    "model = 'llama2-7b' # 'llama2-7b', 'llama3-8b' or 'selfrag'\n",
    "choice = 0\n",
    "\n",
    "tasks = ['pqa', 'tqa', 'health', 'arc']\n",
    "\n",
    "if 'llama3' in model:\n",
    "    res_path = f'minqi_inf_output/llama3Ins-{tasks[choice]}-final_rec.json'\n",
    "    auxilary_path = f'minqi_inf_output/llama3Ins-{tasks[choice]}.json'\n",
    "elif 'llama2' in model:\n",
    "    res_path = f'minqi_inf_output/llama2chat-{tasks[choice]}-final_rec.json'\n",
    "    auxilary_path = f'minqi_inf_output/llama2chat-{tasks[choice]}.json'\n",
    "elif'selfrag' in model:\n",
    "    res_path = f'minqi_inf_output/selfrag-{tasks[choice]}-final_rec.json'\n",
    "    auxilary_path = f'minqi_inf_output/selfrag-{tasks[choice]}.json'\n",
    "\n",
    "with open(res_path) as f:\n",
    "    json_file = json.load(f)\n",
    "\n",
    "with open(auxilary_path) as f:\n",
    "    json_file_aux = json.load(f)\n",
    "\n",
    "df = pd.DataFrame(json_file)\n",
    "df = df['results']\n",
    "\n",
    "df_aux = pd.DataFrame(json_file_aux)\n",
    "\n",
    "answers = []\n",
    "generation_cnt = []\n",
    "\n",
    "prefix = ['no_retrieval', 'ret_0', 'ret_1', 'ret_2', 'ret_3', 'ret_4']\n",
    "\n",
    "for i in range(len(df['chosen_ans'])):\n",
    "    cur_ans_prefix = df['chosen_ans'][i]\n",
    "    cur_ans = df_aux[cur_ans_prefix][i]\n",
    "    cur_generation = df['num_generations'][i] + df['num_generations'][i] - 2 # df['num_generations'][i] generations and df['num_generations'][i]-2 comparisons\n",
    "\n",
    "    answers.append(cur_ans)\n",
    "    generation_cnt.append(cur_generation)\n",
    "\n",
    "scores = []\n",
    "golds = df['golds']\n",
    "for i in range(len(answers)):\n",
    "    if choice in [0,1]:\n",
    "        metric = 'loose_match'\n",
    "        score_ = metric_max_over_ground_truths(loose_match, answers[i], golds[i])\n",
    "    else:\n",
    "        metric = 'loose_acc'\n",
    "        score_ = metric_max_over_ground_truths(loose_acc, answers[i], golds[i])\n",
    "    scores.append(score_)\n",
    "print('Resuls for S2RAG:', model, tasks[choice])\n",
    "print(f'{metric} {np.mean(scores)*100:.1f}')\n",
    "print(f'NGPQ (number of generations per query): {np.mean(generation_cnt):.1f}')\n"
   ]
  },
  {
   "cell_type": "markdown",
   "metadata": {},
   "source": [
    "## Ablation"
   ]
  },
  {
   "cell_type": "markdown",
   "metadata": {},
   "source": [
    "### a. remove confidence evaluation"
   ]
  },
  {
   "cell_type": "code",
   "execution_count": 29,
   "metadata": {},
   "outputs": [
    {
     "name": "stdout",
     "output_type": "stream",
     "text": [
      "Resuls for S2RAG (rm cfd): llama2-7b pqa\n",
      "loose_match 49.0\n",
      "NGPQ (number of generations per query): 5.1\n"
     ]
    }
   ],
   "source": [
    "# ablation results\n",
    "model = 'llama2-7b' # 'llama2-7b', 'llama3-8b' or 'selfrag'\n",
    "choice = 0\n",
    "\n",
    "tasks = ['pqa', 'tqa', 'health', 'arc']\n",
    "\n",
    "if 'llama3' in model:\n",
    "    res_path = f'minqi_inf_output/llama3Ins-{tasks[choice]}-final_rec_rm_cfd.json'\n",
    "    auxilary_path = f'minqi_inf_output/llama3Ins-{tasks[choice]}.json'\n",
    "elif 'llama2' in model:\n",
    "    res_path = f'minqi_inf_output/llama2chat-{tasks[choice]}-final_rec_rm_cfd.json'\n",
    "    auxilary_path = f'minqi_inf_output/llama2chat-{tasks[choice]}.json'\n",
    "elif'selfrag' in model:\n",
    "    res_path = f'minqi_inf_output/selfrag-{tasks[choice]}-final_rec_rm_cfd.json'\n",
    "    auxilary_path = f'minqi_inf_output/selfrag-{tasks[choice]}.json'\n",
    "\n",
    "with open(res_path) as f:\n",
    "    json_file = json.load(f)\n",
    "\n",
    "with open(auxilary_path) as f:\n",
    "    json_file_aux = json.load(f)\n",
    "\n",
    "df = pd.DataFrame(json_file)\n",
    "df = df['results']\n",
    "\n",
    "df_aux = pd.DataFrame(json_file_aux)\n",
    "\n",
    "answers = []\n",
    "generation_cnt = []\n",
    "\n",
    "prefix = ['no_retrieval', 'ret_0', 'ret_1', 'ret_2', 'ret_3', 'ret_4']\n",
    "\n",
    "for i in range(len(df['chosen_ans'])):\n",
    "    cur_ans_prefix = df['chosen_ans'][i]\n",
    "    cur_ans = df_aux[cur_ans_prefix][i]\n",
    "    cur_generation = df['num_generations'][i] + df['num_generations'][i] - 2 # df['num_generations'][i] generations and df['num_generations'][i]-2 comparisons\n",
    "\n",
    "    answers.append(cur_ans)\n",
    "    generation_cnt.append(cur_generation)\n",
    "\n",
    "scores = []\n",
    "golds = df['golds']\n",
    "for i in range(len(answers)):\n",
    "    if choice in [0,1]:\n",
    "        metric = 'loose_match'\n",
    "        score_ = metric_max_over_ground_truths(loose_match, answers[i], golds[i])\n",
    "    else:\n",
    "        metric = 'loose_acc'\n",
    "        score_ = metric_max_over_ground_truths(loose_acc, answers[i], golds[i])\n",
    "    scores.append(score_)\n",
    "print('Resuls for S2RAG (rm cfd):', model, tasks[choice])\n",
    "print(f'{metric} {np.mean(scores)*100:.1f}')\n",
    "print(f'NGPQ (number of generations per query): {np.mean(generation_cnt):.1f}')\n"
   ]
  },
  {
   "cell_type": "markdown",
   "metadata": {},
   "source": [
    "### b. remove self-judgement"
   ]
  },
  {
   "cell_type": "code",
   "execution_count": 30,
   "metadata": {},
   "outputs": [
    {
     "name": "stdout",
     "output_type": "stream",
     "text": [
      "Resuls for S2RAG (rm SJ): llama2-7b pqa\n",
      "loose_match 27.0\n",
      "NGPQ (number of generations per query): 6.0\n"
     ]
    }
   ],
   "source": [
    "# ablation results\n",
    "model = 'llama2-7b' # 'llama2-7b', 'llama3-8b' or 'selfrag'\n",
    "choice = 0\n",
    "\n",
    "tasks = ['pqa', 'tqa', 'health', 'arc']\n",
    "\n",
    "if 'llama3' in model:\n",
    "    res_path = f'minqi_inf_output/llama3Ins-{tasks[choice]}-final_rec_rm_SJ.json'\n",
    "    auxilary_path = f'minqi_inf_output/llama3Ins-{tasks[choice]}.json'\n",
    "elif 'llama2' in model:\n",
    "    res_path = f'minqi_inf_output/llama2chat-{tasks[choice]}-final_rec_rm_SJ.json'\n",
    "    auxilary_path = f'minqi_inf_output/llama2chat-{tasks[choice]}.json'\n",
    "elif'selfrag' in model:\n",
    "    res_path = f'minqi_inf_output/selfrag-{tasks[choice]}-final_rec_rm_SJ.json'\n",
    "    auxilary_path = f'minqi_inf_output/selfrag-{tasks[choice]}.json'\n",
    "\n",
    "with open(res_path) as f:\n",
    "    json_file = json.load(f)\n",
    "\n",
    "with open(auxilary_path) as f:\n",
    "    json_file_aux = json.load(f)\n",
    "\n",
    "df = pd.DataFrame(json_file)\n",
    "df = df['results']\n",
    "\n",
    "df_aux = pd.DataFrame(json_file_aux)\n",
    "\n",
    "answers = []\n",
    "generation_cnt = []\n",
    "\n",
    "prefix = ['no_retrieval', 'ret_0', 'ret_1', 'ret_2', 'ret_3', 'ret_4']\n",
    "\n",
    "for i in range(len(df['chosen_ans'])):\n",
    "    cur_ans_prefix = df['chosen_ans'][i]\n",
    "    cur_ans = df_aux[cur_ans_prefix][i]\n",
    "    cur_generation = df['num_generations'][i] # df['num_generations'][i] generations\n",
    "\n",
    "    answers.append(cur_ans)\n",
    "    generation_cnt.append(cur_generation)\n",
    "\n",
    "scores = []\n",
    "golds = df['golds']\n",
    "for i in range(len(answers)):\n",
    "    if choice in [0,1]:\n",
    "        metric = 'loose_match'\n",
    "        score_ = metric_max_over_ground_truths(loose_match, answers[i], golds[i])\n",
    "    else:\n",
    "        metric = 'loose_acc'\n",
    "        score_ = metric_max_over_ground_truths(loose_acc, answers[i], golds[i])\n",
    "    scores.append(score_)\n",
    "print('Resuls for S2RAG (rm SJ):', model, tasks[choice])\n",
    "print(f'{metric} {np.mean(scores)*100:.1f}')\n",
    "print(f'NGPQ (number of generations per query): {np.mean(generation_cnt):.1f}')"
   ]
  },
  {
   "cell_type": "markdown",
   "metadata": {},
   "source": [
    "### c. remove self-voting"
   ]
  },
  {
   "cell_type": "markdown",
   "metadata": {},
   "source": [
    "we can directly use previous results without running new experiments (just check the recorded score after judgement)"
   ]
  },
  {
   "cell_type": "code",
   "execution_count": 31,
   "metadata": {},
   "outputs": [
    {
     "name": "stdout",
     "output_type": "stream",
     "text": [
      "Resuls for S2RAG (rm SV): llama2-7b pqa\n",
      "loose_match 43.0\n",
      "NGPQ (number of generations per query): 4.1\n"
     ]
    }
   ],
   "source": [
    "# ablation results\n",
    "model = 'llama2-7b' # 'llama2-7b', 'llama3-8b' or 'selfrag'\n",
    "choice = 0\n",
    "\n",
    "tasks = ['pqa', 'tqa', 'health', 'arc']\n",
    "\n",
    "if 'llama3' in model:\n",
    "    res_path = f'minqi_inf_output/llama3Ins-{tasks[choice]}-final_rec.json'\n",
    "    auxilary_path = f'minqi_inf_output/llama3Ins-{tasks[choice]}.json'\n",
    "elif 'llama2' in model:\n",
    "    res_path = f'minqi_inf_output/llama2chat-{tasks[choice]}-final_rec.json'\n",
    "    auxilary_path = f'minqi_inf_output/llama2chat-{tasks[choice]}.json'\n",
    "elif'selfrag' in model:\n",
    "    res_path = f'minqi_inf_output/selfrag-{tasks[choice]}-final_rec.json'\n",
    "    auxilary_path = f'minqi_inf_output/selfrag-{tasks[choice]}.json'\n",
    "\n",
    "with open(res_path) as f:\n",
    "    json_file = json.load(f)\n",
    "\n",
    "with open(auxilary_path) as f:\n",
    "    json_file_aux = json.load(f)\n",
    "\n",
    "df = pd.DataFrame(json_file)\n",
    "df = df['results']\n",
    "\n",
    "df_aux = pd.DataFrame(json_file_aux)\n",
    "\n",
    "answers = []\n",
    "generation_cnt = []\n",
    "\n",
    "prefix = ['no_retrieval', 'ret_0', 'ret_1', 'ret_2', 'ret_3', 'ret_4']\n",
    "\n",
    "for i in range(len(df['chosen_ans'])):\n",
    "    if df['score_after_voting'][i] == []: # it breaks the loop before self-voting\n",
    "        cur_ans_prefix = df['chosen_ans'][i]\n",
    "        cur_ans = df_aux[cur_ans_prefix][i]\n",
    "        cur_generation = df['num_generations'][i] + df['num_generations'][i] - 1 # df['num_generations'][i] generations and df['num_generations'][i]-1 comparisons\n",
    "    else: # it breaks the loop after self-voting, find a new max score based on score after judge\n",
    "        cur_max_score = max(df['score_after_judge'][i][0])\n",
    "        cur_ans_prefix = prefix[df['score_after_judge'][i][0].index(cur_max_score)]\n",
    "        cur_ans = df_aux[cur_ans_prefix][i]\n",
    "        cur_generation = df['num_generations'][i] - 1 + df['num_generations'][i] - 2 # df['num_generations'][i]-1 generations and df['num_generations'][i]-2 comparisons \n",
    "\n",
    "    answers.append(cur_ans)\n",
    "    generation_cnt.append(cur_generation)\n",
    "\n",
    "scores = []\n",
    "golds = df['golds']\n",
    "for i in range(len(answers)):\n",
    "    if choice in [0,1]:\n",
    "        metric = 'loose_match'\n",
    "        score_ = metric_max_over_ground_truths(loose_match, answers[i], golds[i])\n",
    "    else:\n",
    "        metric = 'loose_acc'\n",
    "        score_ = metric_max_over_ground_truths(loose_acc, answers[i], golds[i])\n",
    "    scores.append(score_)\n",
    "print('Resuls for S2RAG (rm SV):', model, tasks[choice])\n",
    "print(f'{metric} {np.mean(scores)*100:.1f}')\n",
    "print(f'NGPQ (number of generations per query): {np.mean(generation_cnt):.1f}')"
   ]
  },
  {
   "cell_type": "markdown",
   "metadata": {},
   "source": [
    "## Varying tau"
   ]
  },
  {
   "cell_type": "markdown",
   "metadata": {},
   "source": [
    "data are collceted by varying tau"
   ]
  },
  {
   "cell_type": "code",
   "execution_count": null,
   "metadata": {},
   "outputs": [],
   "source": [
    "tasks = ['pqa', 'tqa', 'health', 'arc']\n",
    "tau_list = [0.15, 0.45, 0.75]\n",
    "for tau in tau_list:\n",
    "    if model == 'llama3':\n",
    "        res_path = f'minqi_inf_ablation/llama3Ins-{tasks[choice]}-final_rec_{tau}.json'\n",
    "        auxilary_path = f'minqi_inf_output/llama3Ins-{tasks[choice]}.json'\n",
    "        original_path = f'minqi_inf_ablation/llama3Ins-{tasks[choice]}-final_rec_0.45.json'\n",
    "    elif model == 'llama2':\n",
    "        res_path = f'minqi_inf_ablation/llama2chat-{tasks[choice]}-final_rec_{tau}.json'\n",
    "        auxilary_path = f'minqi_inf_output/llama2chat-{tasks[choice]}.json'\n",
    "        original_path = f'minqi_inf_ablation/llama2chat-{tasks[choice]}-final_rec_0.45.json'\n",
    "\n",
    "    elif model == 'selfrag':\n",
    "        res_path = f'minqi_inf_ablation/selfrag-{tasks[choice]}-final_rec_{tau}.json'\n",
    "        auxilary_path = f'minqi_inf_output/selfrag-{tasks[choice]}.json'\n",
    "        original_path = f'minqi_inf_ablation/selfrag-{tasks[choice]}-final_rec_0.45.json'\n",
    "\n",
    "\n",
    "    with open(res_path) as f:\n",
    "        json_file = json.load(f)\n",
    "\n",
    "    with open(auxilary_path) as f:\n",
    "        json_file_aux = json.load(f)\n",
    "\n",
    "    with open(original_path) as f:\n",
    "        json_file_original = json.load(f)\n",
    "\n",
    "    df = pd.DataFrame(json_file)\n",
    "    df = df['results']\n",
    "\n",
    "    df_original = pd.DataFrame(json_file_original)\n",
    "    df_original = df_original['results']\n",
    "\n",
    "    df_aux = pd.DataFrame(json_file_aux)\n",
    "\n",
    "    answers = []\n",
    "    origin_answers = []\n",
    "    total_generations = 0\n",
    "    original_generations = 0\n",
    "    prefix = ['no_retrieval', 'ret_0', 'ret_1', 'ret_2', 'ret_3', 'ret_4']\n",
    "\n",
    "\n",
    "    for i in range(len(df['chosen_ans'])):\n",
    "        cur_ans = df_aux[df['chosen_ans'][i]][i]\n",
    "        \n",
    "        answers.append(cur_ans)\n",
    "        origin_answers.append(df_aux[df_original['chosen_ans'][i]][i])\n",
    "        if df['score_after_voting'][i] == []:\n",
    "            total_generations += df['num_generations'][i] + df['num_generations'][i] - 1\n",
    "        else:\n",
    "            total_generations += df['num_generations'][i] + df['num_generations'][i] - 2\n",
    "        if df_original['score_after_voting'][i] == []:\n",
    "            original_generations += df_original['num_generations'][i] + df_original['num_generations'][i] - 1\n",
    "        else:\n",
    "            original_generations += df_original['num_generations'][i] + df_original['num_generations'][i] - 2\n",
    "            \n",
    "    print('AVG new generations:', total_generations / len(df['chosen_ans']), '\\nAVG original generations:', original_generations / len(df['chosen_ans']))\n",
    "\n",
    "\n",
    "    scores = []\n",
    "    score_origin = []\n",
    "    golds = df['golds']\n",
    "    for i in range(len(answers)):\n",
    "        if choice in [0,1]:\n",
    "            metric = 'loose_match'\n",
    "            score_ = metric_max_over_ground_truths(loose_match, answers[i], golds[i])\n",
    "            score_origin_ = metric_max_over_ground_truths(loose_match, origin_answers[i], golds[i])\n",
    "        else:\n",
    "            metric = 'loose_acc'\n",
    "            score_ = metric_max_over_ground_truths(loose_acc, answers[i], golds[i])\n",
    "            score_origin_ = metric_max_over_ground_truths(loose_acc, origin_answers[i], golds[i])\n",
    "        scores.append(score_)\n",
    "        score_origin.append(score_origin_)\n",
    "    print('(new) Resuls for', model, tasks[choice], tau)\n",
    "    print(f'{metric} {np.mean(scores)*100:.1f}')\n",
    "\n",
    "    print('(Original) Resuls for', model, tasks[choice])\n",
    "    print(f'{metric} {np.mean(score_origin)*100:.1f}')\n",
    "    print('\\n\\n')"
   ]
  },
  {
   "cell_type": "code",
   "execution_count": 48,
   "metadata": {},
   "outputs": [
    {
     "data": {
      "image/png": "[encoded data removed]",
      "text/plain": [
       "<Figure size 1000x900 with 6 Axes>"
      ]
     },
     "metadata": {},
     "output_type": "display_data"
    }
   ],
   "source": [
    "# plot\n",
    "tasks = ['pqa', 'tqa', 'health', 'arc']\n",
    "tau_list = [0.15, 0.45, 0.75]\n",
    "model = ['llama2', 'llama3', 'selfrag']\n",
    "\n",
    "# accuracy record\n",
    "accuracy_pqa_llama2 = [51.3, 51.3, 48.6]\n",
    "accuracy_tqa_llama2 = [63.7, 63.7, 63.5]\n",
    "accuracy_health_llama2 = [69.3, 63.7, 62.5]\n",
    "accuracy_arc_llama2 = [51.3, 50.9, 51.2]\n",
    "\n",
    "accuracy_pqa_llama3 = [51.2, 51.5, 51.8]\n",
    "accuracy_tqa_llama3 = [68.7, 68.8, 69.4]\n",
    "accuracy_health_llama3 = [76.3, 74.9, 74.5]\n",
    "accuracy_arc_llama3 = [76.4, 76.5, 76.5]\n",
    "\n",
    "accuracy_pqa_selfrag = [50.0, 50.7, 45.3]\n",
    "accuracy_tqa_selfrag = [61.0, 62.4, 61.2]\n",
    "accuracy_health_selfrag = [70.1, 72.9, 72.9]\n",
    "accuracy_arc_selfrag = [66.9, 67.3, 67.1]\n",
    "\n",
    "# generation record\n",
    "generation_pqa_llama2 = [3.7, 4.3, 6.3]\n",
    "generation_tqa_llama2 = [3.7, 5.3, 8.2]\n",
    "generation_health_llama2 = [3.9, 7.6, 11.5]\n",
    "generation_arc_llama2 = [3.0, 3.2, 3.7]\n",
    "\n",
    "generation_pqa_llama3 = [3.5, 3.7, 4.4]\n",
    "generation_tqa_llama3 = [3.4, 3.8, 4.8]\n",
    "generation_health_llama3 = [3.2, 3.9, 6.0]\n",
    "generation_arc_llama3 = [3.0, 3.1, 3.4]\n",
    "\n",
    "generation_pqa_selfrag = [3.5, 6.6, 10.1]\n",
    "generation_tqa_selfrag = [3.7, 7.1, 10.2]\n",
    "generation_health_selfrag = [3.0, 3.5, 3.5]\n",
    "generation_arc_selfrag = [3.0, 3.1, 3.3]\n",
    "\n",
    "import matplotlib.pyplot as plt\n",
    "from matplotlib.ticker import FuncFormatter\n",
    "\n",
    "tau_labels = ['0.15', '0.45', '0.75']\n",
    "def one_decimal(x, pos):\n",
    "    return '{:.0f}'.format(x)\n",
    "\n",
    "def two_decimal(x, pos):\n",
    "    return '{:.2f}'.format(x)\n",
    "formatter = FuncFormatter(two_decimal)\n",
    "formatter1 = FuncFormatter(one_decimal)\n",
    "\n",
    "# Normalize accuracy data\n",
    "def normalize(data):\n",
    "    max_val = np.max(data)\n",
    "    return [val / max_val for val in data]\n",
    "\n",
    "accuracy_data = {\n",
    "    'S2RAG_2c': {\n",
    "        'PQA': normalize(accuracy_pqa_llama2),\n",
    "        'TQA': normalize(accuracy_tqa_llama2),\n",
    "        'PubHealth': normalize(accuracy_health_llama2),\n",
    "        'ARC': normalize(accuracy_arc_llama2)\n",
    "    },\n",
    "    'S2RAG_3i': {\n",
    "        'PQA': normalize(accuracy_pqa_llama3),\n",
    "        'TQA': normalize(accuracy_tqa_llama3),\n",
    "        'PubHealth': normalize(accuracy_health_llama3),\n",
    "        'ARC': normalize(accuracy_arc_llama3)\n",
    "    },\n",
    "    'S2RAG_SR': {\n",
    "        'PQA': normalize(accuracy_pqa_selfrag),\n",
    "        'TQA': normalize(accuracy_tqa_selfrag),\n",
    "        'PubHealth': normalize(accuracy_health_selfrag),\n",
    "        'ARC': normalize(accuracy_arc_selfrag)\n",
    "    }\n",
    "}\n",
    "\n",
    "generation_data = {\n",
    "    'S2RAG_2c': {\n",
    "        'PQA': generation_pqa_llama2,\n",
    "        'TQA': generation_tqa_llama2,\n",
    "        'PubHealth': generation_health_llama2,\n",
    "        'ARC': generation_arc_llama2\n",
    "    },\n",
    "    'S2RAG_3i': {\n",
    "        'PQA': generation_pqa_llama3,\n",
    "        'TQA': generation_tqa_llama3,\n",
    "        'PubHealth': generation_health_llama3,\n",
    "        'ARC': generation_arc_llama3\n",
    "    },\n",
    "    'S2RAG_SR': {\n",
    "        'PQA': generation_pqa_selfrag,\n",
    "        'TQA': generation_tqa_selfrag,\n",
    "        'PubHealth': generation_health_selfrag,\n",
    "        'ARC': generation_arc_selfrag\n",
    "    }\n",
    "}\n",
    "\n",
    "# Set the default text size for various elements\n",
    "plt.rcParams['font.size'] = 15\n",
    "plt.rcParams['axes.titlesize'] = 14\n",
    "plt.rcParams['axes.labelsize'] = 13\n",
    "plt.rcParams['xtick.labelsize'] = 13\n",
    "plt.rcParams['ytick.labelsize'] = 13\n",
    "plt.rcParams['legend.fontsize'] = 10\n",
    "\n",
    "# Plotting\n",
    "models = ['S2RAG_2c',  'S2RAG_3i', 'S2RAG_SR', ]\n",
    "# tasks = ['pqa', 'tqa', 'health', 'arc']\n",
    "tasks = ['PQA', 'TQA', 'PubHealth', 'ARC']\n",
    "\n",
    "fig, axs = plt.subplots(len(models), 2, figsize=(10, 9))\n",
    "colors = ['b', 'g', 'c', 'y']\n",
    "\n",
    "for i, model in enumerate(models):\n",
    "    # Accuracy plot\n",
    "    for j, task in enumerate(tasks):\n",
    "        axs[i, 0].plot(tau_list, accuracy_data[model][task], marker='o', label=task, color=colors[j % len(colors)])\n",
    "    axs[i, 0].set_title(f'{model} Accuracy')\n",
    "    if i == len(models) - 1:\n",
    "        axs[i, 0].set_xlabel(r'$\\tau$')\n",
    "    axs[i, 0].set_ylabel('Norm. Accuracy')\n",
    "    axs[i, 0].set_xticks(tau_list)\n",
    "    axs[i, 0].set_xticklabels(tau_labels)\n",
    "    axs[i, 0].yaxis.set_major_formatter(formatter)\n",
    "\n",
    "    axs[i, 0].legend()\n",
    "    axs[i, 0].grid(True)\n",
    "\n",
    "    # Generation plot\n",
    "    for j, task in enumerate(tasks):\n",
    "        axs[i, 1].plot(tau_list, generation_data[model][task], marker='o', label=task, color=colors[j % len(colors)])\n",
    "    axs[i, 1].set_title(f'{model} Generations')\n",
    "    if i == len(models) - 1:\n",
    "        axs[i, 1].set_xlabel(r'$\\tau$')\n",
    "    axs[i, 1].set_ylabel('NGPQ')\n",
    "    axs[i, 1].set_xticks(tau_list)\n",
    "    axs[i, 1].set_xticklabels(tau_labels)\n",
    "    axs[i, 1].yaxis.set_major_formatter(formatter1)\n",
    "\n",
    "    axs[i, 1].legend()\n",
    "    axs[i, 1].grid(True)\n",
    "\n",
    "plt.tight_layout()\n",
    "plt.savefig('tau_performance.png')  # 保存图像\n",
    "plt.show()"
   ]
  },
  {
   "cell_type": "markdown",
   "metadata": {},
   "source": [
    "# 7. Training Judge"
   ]
  },
  {
   "cell_type": "markdown",
   "metadata": {},
   "source": [
    "## a. Answer Pairs and Judgements Collection"
   ]
  },
  {
   "cell_type": "code",
   "execution_count": 44,
   "metadata": {},
   "outputs": [
    {
     "data": {
      "text/plain": [
       "Index(['no_retrieval', 'no_retrieval_ids', 'no_retrieval_log_probs',\n",
       "       'all_doc_retrieval', 'all_doc_retrieval_ids',\n",
       "       'all_doc_retrieval_log_probs', 'retrieval_res', 'question_id', 'gold',\n",
       "       'question', 'ret_0', 'ret_0_log_probs', 'ret_0_ctx', 'ret_0_ctx_score',\n",
       "       'ret_0_scores', 'ret_1', 'ret_1_log_probs', 'ret_1_ctx',\n",
       "       'ret_1_ctx_score', 'ret_1_scores', 'ret_2', 'ret_2_log_probs',\n",
       "       'ret_2_ctx', 'ret_2_ctx_score', 'ret_2_scores', 'ret_3',\n",
       "       'ret_3_log_probs', 'ret_3_ctx', 'ret_3_ctx_score', 'ret_3_scores',\n",
       "       'ret_4', 'ret_4_log_probs', 'ret_4_ctx', 'ret_4_ctx_score',\n",
       "       'ret_4_scores'],\n",
       "      dtype='object')"
      ]
     },
     "execution_count": 44,
     "metadata": {},
     "output_type": "execute_result"
    }
   ],
   "source": [
    "# use existing answers for now\n",
    "import json\n",
    "import pandas as pd\n",
    "import numpy as np\n",
    "from scripts.metrics import *\n",
    "import jsonlines\n",
    "from scripts.utils import TASK_INST, preprocess_input_data, load_jsonlines, choose_better_prompt, \\\n",
    "    compute_confidence\n",
    "import random\n",
    "\n",
    "# ablation results\n",
    "model = 'llama2'\n",
    "choice = 3\n",
    "tasks = ['pqa', 'tqa', 'health', 'arc']\n",
    "task = tasks[choice]\n",
    "\n",
    "random.seed(42)\n",
    "\n",
    "closed = False\n",
    "if choice in [2,3]:\n",
    "    closed = True\n",
    "\n",
    "is_llama3 = False\n",
    "if model == 'llama3':\n",
    "    ans_path = f'minqi_inf_output/llama3Ins-{tasks[choice]}.json'\n",
    "    is_llama3 = True\n",
    "elif model == 'llama2':\n",
    "    ans_path = f'minqi_inf_output/llama2chat-{tasks[choice]}.json'\n",
    "elif model == 'selfrag':\n",
    "    ans_path = f'minqi_inf_output/selfrag-{tasks[choice]}.json'\n",
    "\n",
    "with open(ans_path) as f:\n",
    "    json_file = json.load(f)\n",
    "\n",
    "if closed:\n",
    "    if task == 'arc':\n",
    "        auxilliary_data_path = '/home/minqi/code/S2RAG/data_eval/arc_challenge_processed_example.jsonl' # change to real path\n",
    "    elif task == 'health':\n",
    "        auxilliary_data_path = '/home/minqi/code/S2RAG/data_eval/health_claims_processed_example.jsonl'\n",
    "    \n",
    "    auxilliary_data = load_jsonlines(auxilliary_data_path)\n",
    "    auxilliary_data = preprocess_input_data(auxilliary_data, task=task, is_llama3=is_llama3)\n",
    "    assert len(json_file) == len(auxilliary_data), f'Length of json file {len(json_file)} and auxilliary data {len(auxilliary_data)} do not match!'\n",
    "\n",
    "df = pd.DataFrame(json_file)\n",
    "\n",
    "df.keys()"
   ]
  },
  {
   "cell_type": "code",
   "execution_count": 45,
   "metadata": {},
   "outputs": [
    {
     "name": "stdout",
     "output_type": "stream",
     "text": [
      "52 52 88 96\n"
     ]
    }
   ],
   "source": [
    "opt1_data = [] # correct + incorrect dict(instruction, output) \n",
    "opt2_data = [] # incorrect + correct\n",
    "opt3_data = [] # corect + correct\n",
    "opt4_data = [] # incorrect + incorrect\n",
    "\n",
    "prefix = ['no_retrieval', 'ret_0', 'ret_1', 'ret_2', 'ret_3', 'ret_4']\n",
    "# random sample: 75% training, 25% test\n",
    "sample_times = 2 # sample time for 4 options\n",
    "\n",
    "for i in range(len(df)):\n",
    "    # random sample 75% training, 25% test\n",
    "    if random.random() < 0.25: # test\n",
    "        continue # skip\n",
    "    # training\n",
    "    if closed:\n",
    "        cur_question = auxilliary_data[i]['instruction']\n",
    "    else:\n",
    "        cur_question = df['question'][i]\n",
    "    \n",
    "    # check whether there is correct answer\n",
    "    cur_answers = [df[prefix[j]][i] for j in range(len(prefix))] # 6 options\n",
    "    corr_ans = [] # (ctx, str, cfd)\n",
    "    incorrect_ans = []\n",
    "    for ii in range(len(cur_answers)):\n",
    "        if choice in [0, 1]:\n",
    "            metric = 'loose_match'\n",
    "            score_ = metric_max_over_ground_truths(loose_match, cur_answers[ii], df['gold'][i])    \n",
    "        else:\n",
    "            metric = 'loose_acc'\n",
    "            score_ = metric_max_over_ground_truths(loose_acc, cur_answers[ii], df['gold'][i])\n",
    "        \n",
    "        if score_ == 1:\n",
    "            if ii > 0:\n",
    "                corr_ans.append((df[prefix[ii]+'_ctx'][i], cur_answers[ii], compute_confidence(df[prefix[ii]+'_log_probs'][i])))\n",
    "            else:\n",
    "                corr_ans.append((' ', cur_answers[ii], compute_confidence(df[prefix[ii]+'_log_probs'][i])))\n",
    "        else:\n",
    "            if ii > 0:\n",
    "                incorrect_ans.append((df[prefix[ii]+'_ctx'][i], cur_answers[ii], compute_confidence(df[prefix[ii]+'_log_probs'][i])))\n",
    "            else:\n",
    "                incorrect_ans.append((' ', cur_answers[ii], compute_confidence(df[prefix[ii]+'_log_probs'][i])))\n",
    "\n",
    "    # expand dataset\n",
    "    if len(corr_ans) > 0 and len(incorrect_ans) > 0:\n",
    "        # opt1: correct + incorrect\n",
    "        for _ in range(sample_times):\n",
    "            rand_corr = random.sample(corr_ans, 1)[0]\n",
    "            rand_incorr = random.sample(incorrect_ans, 1)[0]\n",
    "            cur_ctx = rand_corr[0] + '\\n' + rand_incorr[0]\n",
    "            cur_instruction = choose_better_prompt(cur_ctx, rand_corr[1], rand_corr[2], rand_incorr[1], rand_incorr[2], cur_question)\n",
    "            cur_output = '1'\n",
    "            opt1_data.append({'instruction': cur_instruction, 'output': cur_output, 'question': cur_question, 'gold': df['gold'][i], 'data_idx': i, 'task': task})   \n",
    "        # opt2: incorrect + correct\n",
    "        for _ in range(sample_times):\n",
    "            rand_corr = random.sample(corr_ans, 1)[0]\n",
    "            rand_incorr = random.sample(incorrect_ans, 1)[0]\n",
    "            cur_ctx = rand_incorr[0] + '\\n' + rand_corr[0]\n",
    "            cur_instruction = choose_better_prompt(cur_ctx, rand_incorr[1], rand_incorr[2], rand_corr[1], rand_corr[2], cur_question)\n",
    "            cur_output = '2'\n",
    "            opt2_data.append({'instruction': cur_instruction, 'output': cur_output, 'question': cur_question, 'gold': df['gold'][i], 'data_idx': i, 'task': task})\n",
    "    if len(corr_ans) > 1:\n",
    "        # opt3: correct + correct\n",
    "        for _ in range(sample_times):\n",
    "            rand_corr = random.sample(corr_ans, 2)\n",
    "            cur_ctx = rand_corr[0][0] + '\\n' + rand_corr[1][0]\n",
    "            cur_instruction = choose_better_prompt(cur_ctx, rand_corr[0][1], rand_corr[0][2], rand_corr[1][1], rand_corr[1][2], cur_question)\n",
    "            cur_output = '3'\n",
    "            opt3_data.append({'instruction': cur_instruction, 'output': cur_output, 'question': cur_question, 'gold': df['gold'][i], 'data_idx': i, 'task': task})\n",
    "    if len(incorrect_ans) > 1:\n",
    "        # opt4: incorrect + incorrect\n",
    "        for _ in range(sample_times):\n",
    "            rand_incorr = random.sample(incorrect_ans, 2)\n",
    "            cur_ctx = rand_incorr[0][0] + '\\n' + rand_incorr[1][0]\n",
    "            cur_instruction = choose_better_prompt(cur_ctx, rand_incorr[0][1], rand_incorr[0][2], rand_incorr[1][1], rand_incorr[1][2], cur_question)\n",
    "            cur_output = '4'\n",
    "            opt4_data.append({'instruction': cur_instruction, 'output': cur_output, 'question': cur_question, 'gold': df['gold'][i], 'data_idx': i, 'task': task})\n",
    "   \n",
    "print(len(opt1_data), len(opt2_data), len(opt3_data), len(opt4_data))\n"
   ]
  },
  {
   "cell_type": "code",
   "execution_count": 46,
   "metadata": {},
   "outputs": [
    {
     "name": "stdout",
     "output_type": "stream",
     "text": [
      "Sample to avg number: 72\n",
      "72 72 72 72\n"
     ]
    }
   ],
   "source": [
    "# write to jsonl\n",
    "# sample to avg number\n",
    "import os\n",
    "avg_sample = int(np.mean([len(opt1_data), len(opt2_data), len(opt3_data), len(opt4_data)]))\n",
    "print(\"Sample to avg number:\", avg_sample)\n",
    "\n",
    "opt1_data = random.choices(opt1_data, k=avg_sample)\n",
    "opt2_data = random.choices(opt2_data, k=avg_sample)\n",
    "opt3_data = random.choices(opt3_data, k=avg_sample)\n",
    "opt4_data = random.choices(opt4_data, k=avg_sample)\n",
    "print (len(opt1_data), len(opt2_data), len(opt3_data), len(opt4_data))\n",
    "\n",
    "import jsonlines\n",
    "writing_path =  os.getcwd()\n",
    "with jsonlines.open(f'{writing_path}/data_training/train_data_{task}_example.jsonl', 'w') as writer:\n",
    "    for data in opt1_data + opt2_data + opt3_data + opt4_data:\n",
    "        writer.write(data)\n"
   ]
  },
  {
   "cell_type": "markdown",
   "metadata": {},
   "source": [
    "mix all data"
   ]
  },
  {
   "cell_type": "code",
   "execution_count": 47,
   "metadata": {},
   "outputs": [
    {
     "name": "stdout",
     "output_type": "stream",
     "text": [
      "All files have been combined into /home/minqi/code/S2RAG/data_training/train_data_fusion_example.jsonl\n"
     ]
    }
   ],
   "source": [
    "import jsonlines\n",
    "import random\n",
    "from collections import defaultdict\n",
    "\n",
    "# Define paths and tasks\n",
    "writing_path =  os.getcwd()\n",
    "# mix_tasks = ['pqa', 'tqa', 'health', 'arc']\n",
    "mix_tasks = ['arc'] # we only use arc for illustration purpose \n",
    "\n",
    "files = [f'{writing_path}/data_training/train_data_{task}_example.jsonl' for task in mix_tasks]\n",
    "\n",
    "# Read and store all data\n",
    "all_data = defaultdict(list)\n",
    "for file, task in zip(files, mix_tasks):\n",
    "    with jsonlines.open(file) as reader:\n",
    "        for obj in reader:\n",
    "            all_data[task].append(obj)\n",
    "\n",
    "# Upsample or downsample each task to match the minimum size\n",
    "balanced_data = []\n",
    "for task, data in all_data.items():\n",
    "    balanced_data.extend(data)\n",
    "\n",
    "# Shuffle the balanced data to mix different tasks\n",
    "random.shuffle(balanced_data)\n",
    "\n",
    "# Write to the final JSONL file\n",
    "output_file = f'{writing_path}/data_training/train_data_fusion_example.jsonl'\n",
    "with jsonlines.open(output_file, mode='w') as writer:\n",
    "    for obj in balanced_data:\n",
    "        writer.write(obj)\n",
    "\n",
    "print(f\"All files have been combined into {output_file}\")\n"
   ]
  },
  {
   "cell_type": "markdown",
   "metadata": {},
   "source": [
    "## b. Judgement Explanations Collection"
   ]
  },
  {
   "cell_type": "markdown",
   "metadata": {},
   "source": [
    "use llama2 to collect explanations for example data"
   ]
  },
  {
   "cell_type": "code",
   "execution_count": 60,
   "metadata": {},
   "outputs": [
    {
     "name": "stdout",
     "output_type": "stream",
     "text": [
      "size:  288\n"
     ]
    },
    {
     "data": {
      "text/html": [
       "<div>\n",
       "<style scoped>\n",
       "    .dataframe tbody tr th:only-of-type {\n",
       "        vertical-align: middle;\n",
       "    }\n",
       "\n",
       "    .dataframe tbody tr th {\n",
       "        vertical-align: top;\n",
       "    }\n",
       "\n",
       "    .dataframe thead th {\n",
       "        text-align: right;\n",
       "    }\n",
       "</style>\n",
       "<table border=\"1\" class=\"dataframe\">\n",
       "  <thead>\n",
       "    <tr style=\"text-align: right;\">\n",
       "      <th></th>\n",
       "      <th>instruction</th>\n",
       "      <th>output</th>\n",
       "      <th>question</th>\n",
       "      <th>gold</th>\n",
       "      <th>data_idx</th>\n",
       "      <th>task</th>\n",
       "      <th>new_instruction</th>\n",
       "    </tr>\n",
       "  </thead>\n",
       "  <tbody>\n",
       "    <tr>\n",
       "      <th>0</th>\n",
       "      <td>Given a question and two possible answers, you...</td>\n",
       "      <td>2</td>\n",
       "      <td>Gases can be easily compressed and are able to...</td>\n",
       "      <td>[C]</td>\n",
       "      <td>95</td>\n",
       "      <td>arc</td>\n",
       "      <td>Given a question and two possible answers, you...</td>\n",
       "    </tr>\n",
       "    <tr>\n",
       "      <th>1</th>\n",
       "      <td>Given a question and two possible answers, you...</td>\n",
       "      <td>4</td>\n",
       "      <td>The period of rotation for each planet in our ...</td>\n",
       "      <td>[A]</td>\n",
       "      <td>85</td>\n",
       "      <td>arc</td>\n",
       "      <td>Given a question and two possible answers, you...</td>\n",
       "    </tr>\n",
       "    <tr>\n",
       "      <th>2</th>\n",
       "      <td>Given a question and two possible answers, you...</td>\n",
       "      <td>4</td>\n",
       "      <td>Which of the following statements is a scienti...</td>\n",
       "      <td>[D]</td>\n",
       "      <td>87</td>\n",
       "      <td>arc</td>\n",
       "      <td>Given a question and two possible answers, you...</td>\n",
       "    </tr>\n",
       "    <tr>\n",
       "      <th>3</th>\n",
       "      <td>Given a question and two possible answers, you...</td>\n",
       "      <td>2</td>\n",
       "      <td>Which of the following traits is most influenc...</td>\n",
       "      <td>[A]</td>\n",
       "      <td>58</td>\n",
       "      <td>arc</td>\n",
       "      <td>Given a question and two possible answers, you...</td>\n",
       "    </tr>\n",
       "    <tr>\n",
       "      <th>4</th>\n",
       "      <td>Given a question and two possible answers, you...</td>\n",
       "      <td>4</td>\n",
       "      <td>What is the primary cause of rainstorms?</td>\n",
       "      <td>[A]</td>\n",
       "      <td>69</td>\n",
       "      <td>arc</td>\n",
       "      <td>Given a question and two possible answers, you...</td>\n",
       "    </tr>\n",
       "  </tbody>\n",
       "</table>\n",
       "</div>"
      ],
      "text/plain": [
       "                                         instruction output  \\\n",
       "0  Given a question and two possible answers, you...      2   \n",
       "1  Given a question and two possible answers, you...      4   \n",
       "2  Given a question and two possible answers, you...      4   \n",
       "3  Given a question and two possible answers, you...      2   \n",
       "4  Given a question and two possible answers, you...      4   \n",
       "\n",
       "                                            question gold  data_idx task  \\\n",
       "0  Gases can be easily compressed and are able to...  [C]        95  arc   \n",
       "1  The period of rotation for each planet in our ...  [A]        85  arc   \n",
       "2  Which of the following statements is a scienti...  [D]        87  arc   \n",
       "3  Which of the following traits is most influenc...  [A]        58  arc   \n",
       "4           What is the primary cause of rainstorms?  [A]        69  arc   \n",
       "\n",
       "                                     new_instruction  \n",
       "0  Given a question and two possible answers, you...  \n",
       "1  Given a question and two possible answers, you...  \n",
       "2  Given a question and two possible answers, you...  \n",
       "3  Given a question and two possible answers, you...  \n",
       "4  Given a question and two possible answers, you...  "
      ]
     },
     "execution_count": 60,
     "metadata": {},
     "output_type": "execute_result"
    }
   ],
   "source": [
    "final_path = f'{writing_path}/data_training/train_data_fusion_example.jsonl'\n",
    "final_data = load_jsonlines(final_path)\n",
    "df_final = pd.DataFrame(final_data)\n",
    "print('size: ', len(final_data))\n",
    "df_final.head()"
   ]
  },
  {
   "cell_type": "code",
   "execution_count": 61,
   "metadata": {},
   "outputs": [],
   "source": [
    "# produce prompt to collect explanations for each judgement\n",
    "new_instruction_lst = []\n",
    "for i in range(len(df_final)):\n",
    "    instruction = df_final['instruction'][i]\n",
    "    output = df_final['output'][i]\n",
    "    gold = df_final['gold'][i]\n",
    "    new_instruction = instruction + f'\\nGold answer:\\n{gold}\\nJudgement: \\n{output}\\nExplanation: \\n'\n",
    "    # write to new instruction\n",
    "    new_instruction_lst.append(new_instruction)\n",
    "\n",
    "df_final['new_instruction'] = new_instruction_lst\n",
    "# write to jsonl\n",
    "with jsonlines.open(final_path, 'w') as writer:\n",
    "    for data in df_final.to_dict(orient='records'):\n",
    "        writer.write(data)"
   ]
  },
  {
   "cell_type": "code",
   "execution_count": 62,
   "metadata": {},
   "outputs": [
    {
     "name": "stdout",
     "output_type": "stream",
     "text": [
      "Given a question and two possible answers, you need to determine which answer is better, equally good or equally bad. \n",
      "Some context is provided, but please note that this context might be irrelevant or misleading (sourced from similar names): \n",
      " \n",
      "Irreversible process\n",
      "opened, and the gas fills the whole container. The internal energy of the gas remains the same, while the volume increases. The original state cannot be recovered by simply compressing the gas to its original volume, since the internal energy will be increased by this compression. The original state can only be recovered by then cooling the re-compressed system, and thereby irreversibly heating the environment. The diagram to the right applies only if the first expansion is \"free\" (Joule expansion). i.e. there can be no atmospheric pressure outside the cylinder and no weight lifted. The difference between reversible and irreversible\n",
      "\n",
      "    \n",
      "    The good answer should be concise, factual, correct and strictly follow the answer format (no special tokens or emojis). \n",
      "    - If the first answer is better, type \"1\", with short explanation.\n",
      "    - If the second answer is better, type \"2\", with short explanation.\n",
      "    - If both answers are equal or similar, and you are sure they are both correct, type \"3\", with short explanation.\n",
      "    - If two answers have conflicts and you need more retrieved passages to determine their correctness, type \"4\".\n",
      "    \n",
      "    Question: Gases can be easily compressed and are able to expand to fill their containers. These descriptions of gases are examples of\n",
      "\n",
      "    Answer 1: (A): changes in state.\n",
      "\n",
      "Gases can be easily compressed and are able to\n",
      "    Answer 1 confidence score: 0.950\n",
      "\n",
      "    Answer 2: (C): properties of matter.\n",
      "\n",
      "The passage explains that the internal energy of the gas remains\n",
      "    Answer 2 confidence score: 0.870\n",
      "    \n",
      "    Please read the provided context, question, and possible answers carefully before making a judgement.\n",
      "    - Ensure your decision is based on a thorough understanding of the context and question.\n",
      "\n",
      "    When checking the answer, prioritize as follows:\n",
      "    1. The context is not misleading, and the answer is supported by the context. The format is exactly as expected. -- This is the best answer.\n",
      "    2. The answer does not use the context, but you believe the answer is correct. The format is exactly as expected. -- This is the second-best answer.\n",
      "    3. The context is misleading, and the answer is misled by the context, hence it is wrong. Or the answer includes any emojis or special tokens -- This is the worst answer.\n",
      "    4. The answer does not directly address the question or challenge the premise of the question. -- This is the worst answer.\n",
      "    \n",
      "Gold answer:\n",
      "['C']\n",
      "Judgement: \n",
      "2\n",
      "Explanation: \n",
      "\n"
     ]
    }
   ],
   "source": [
    "print(df_final['new_instruction'][0])"
   ]
  },
  {
   "cell_type": "markdown",
   "metadata": {},
   "source": [
    "full-size data which llama3 is used to collect explanation"
   ]
  },
  {
   "cell_type": "code",
   "execution_count": 63,
   "metadata": {},
   "outputs": [
    {
     "name": "stdout",
     "output_type": "stream",
     "text": [
      "size:  42072\n"
     ]
    },
    {
     "data": {
      "text/html": [
       "<div>\n",
       "<style scoped>\n",
       "    .dataframe tbody tr th:only-of-type {\n",
       "        vertical-align: middle;\n",
       "    }\n",
       "\n",
       "    .dataframe tbody tr th {\n",
       "        vertical-align: top;\n",
       "    }\n",
       "\n",
       "    .dataframe thead th {\n",
       "        text-align: right;\n",
       "    }\n",
       "</style>\n",
       "<table border=\"1\" class=\"dataframe\">\n",
       "  <thead>\n",
       "    <tr style=\"text-align: right;\">\n",
       "      <th></th>\n",
       "      <th>instruction</th>\n",
       "      <th>output</th>\n",
       "      <th>question</th>\n",
       "      <th>gold</th>\n",
       "      <th>data_idx</th>\n",
       "      <th>task</th>\n",
       "      <th>new_instruction</th>\n",
       "    </tr>\n",
       "  </thead>\n",
       "  <tbody>\n",
       "    <tr>\n",
       "      <th>0</th>\n",
       "      <td>Given a question and two possible answers, you...</td>\n",
       "      <td>1</td>\n",
       "      <td>Which character is known as Ursinho Puff in Po...</td>\n",
       "      <td>[winnie pooh tv series, Winnie-The-Pooh, Winni...</td>\n",
       "      <td>9948</td>\n",
       "      <td>tqa</td>\n",
       "      <td>Given a question and two possible answers, you...</td>\n",
       "    </tr>\n",
       "    <tr>\n",
       "      <th>1</th>\n",
       "      <td>Given a question and two possible answers, you...</td>\n",
       "      <td>4</td>\n",
       "      <td>Who was the oldest man to play test cricket fo...</td>\n",
       "      <td>[Wilfred Rhodes, w rhodes, Wilf Rhodes, Wilfre...</td>\n",
       "      <td>10455</td>\n",
       "      <td>tqa</td>\n",
       "      <td>Given a question and two possible answers, you...</td>\n",
       "    </tr>\n",
       "    <tr>\n",
       "      <th>2</th>\n",
       "      <td>Given a question and two possible answers, you...</td>\n",
       "      <td>3</td>\n",
       "      <td>What country lost the highest % of its populat...</td>\n",
       "      <td>[Polish state, Pole land, polija, Polska, pols...</td>\n",
       "      <td>5566</td>\n",
       "      <td>tqa</td>\n",
       "      <td>Given a question and two possible answers, you...</td>\n",
       "    </tr>\n",
       "    <tr>\n",
       "      <th>3</th>\n",
       "      <td>Given a question and two possible answers, you...</td>\n",
       "      <td>1</td>\n",
       "      <td>\"Under what name did Mrs. Middleton Murray pub...</td>\n",
       "      <td>[Kathleen Mansfield Beauchamp, Katherine Mansf...</td>\n",
       "      <td>5255</td>\n",
       "      <td>tqa</td>\n",
       "      <td>Given a question and two possible answers, you...</td>\n",
       "    </tr>\n",
       "    <tr>\n",
       "      <th>4</th>\n",
       "      <td>Given a question and two possible answers, you...</td>\n",
       "      <td>2</td>\n",
       "      <td>Who played the title role in the 1951 film ‘Ca...</td>\n",
       "      <td>[Greg Peck, Eldred Gregory Peck, Gregory Peckk...</td>\n",
       "      <td>1728</td>\n",
       "      <td>tqa</td>\n",
       "      <td>Given a question and two possible answers, you...</td>\n",
       "    </tr>\n",
       "  </tbody>\n",
       "</table>\n",
       "</div>"
      ],
      "text/plain": [
       "                                         instruction output  \\\n",
       "0  Given a question and two possible answers, you...      1   \n",
       "1  Given a question and two possible answers, you...      4   \n",
       "2  Given a question and two possible answers, you...      3   \n",
       "3  Given a question and two possible answers, you...      1   \n",
       "4  Given a question and two possible answers, you...      2   \n",
       "\n",
       "                                            question  \\\n",
       "0  Which character is known as Ursinho Puff in Po...   \n",
       "1  Who was the oldest man to play test cricket fo...   \n",
       "2  What country lost the highest % of its populat...   \n",
       "3  \"Under what name did Mrs. Middleton Murray pub...   \n",
       "4  Who played the title role in the 1951 film ‘Ca...   \n",
       "\n",
       "                                                gold  data_idx task  \\\n",
       "0  [winnie pooh tv series, Winnie-The-Pooh, Winni...      9948  tqa   \n",
       "1  [Wilfred Rhodes, w rhodes, Wilf Rhodes, Wilfre...     10455  tqa   \n",
       "2  [Polish state, Pole land, polija, Polska, pols...      5566  tqa   \n",
       "3  [Kathleen Mansfield Beauchamp, Katherine Mansf...      5255  tqa   \n",
       "4  [Greg Peck, Eldred Gregory Peck, Gregory Peckk...      1728  tqa   \n",
       "\n",
       "                                     new_instruction  \n",
       "0  Given a question and two possible answers, you...  \n",
       "1  Given a question and two possible answers, you...  \n",
       "2  Given a question and two possible answers, you...  \n",
       "3  Given a question and two possible answers, you...  \n",
       "4  Given a question and two possible answers, you...  "
      ]
     },
     "execution_count": 63,
     "metadata": {},
     "output_type": "execute_result"
    }
   ],
   "source": [
    "final_path = f'{writing_path}/data_training/train_data_fusion.jsonl'\n",
    "final_data = load_jsonlines(final_path)\n",
    "df_final = pd.DataFrame(final_data)\n",
    "print('size: ', len(final_data))\n",
    "df_final.head()"
   ]
  },
  {
   "cell_type": "markdown",
   "metadata": {},
   "source": [
    "## c. Train data preparation"
   ]
  },
  {
   "cell_type": "markdown",
   "metadata": {},
   "source": [
    "data collected for example data using llama2 (illustration purpose only)"
   ]
  },
  {
   "cell_type": "code",
   "execution_count": 65,
   "metadata": {},
   "outputs": [
    {
     "name": "stdout",
     "output_type": "stream",
     "text": [
      "40749\n"
     ]
    },
    {
     "data": {
      "text/html": [
       "<div>\n",
       "<style scoped>\n",
       "    .dataframe tbody tr th:only-of-type {\n",
       "        vertical-align: middle;\n",
       "    }\n",
       "\n",
       "    .dataframe tbody tr th {\n",
       "        vertical-align: top;\n",
       "    }\n",
       "\n",
       "    .dataframe thead th {\n",
       "        text-align: right;\n",
       "    }\n",
       "</style>\n",
       "<table border=\"1\" class=\"dataframe\">\n",
       "  <thead>\n",
       "    <tr style=\"text-align: right;\">\n",
       "      <th></th>\n",
       "      <th>instruction</th>\n",
       "      <th>output</th>\n",
       "    </tr>\n",
       "  </thead>\n",
       "  <tbody>\n",
       "    <tr>\n",
       "      <th>0</th>\n",
       "      <td>Given a question and two possible answers, you...</td>\n",
       "      <td>1\\nExplanation: Answer 1 is the correct answer...</td>\n",
       "    </tr>\n",
       "    <tr>\n",
       "      <th>1</th>\n",
       "      <td>Given a question and two possible answers, you...</td>\n",
       "      <td>2\\nExplanation: The answer 2 is better because...</td>\n",
       "    </tr>\n",
       "    <tr>\n",
       "      <th>2</th>\n",
       "      <td>Given a question and two possible answers, you...</td>\n",
       "      <td>4\\nExplanation: The answers do not directly ad...</td>\n",
       "    </tr>\n",
       "    <tr>\n",
       "      <th>3</th>\n",
       "      <td>Given a question and two possible answers, you...</td>\n",
       "      <td>3\\nExplanation: Both answers are correct, and ...</td>\n",
       "    </tr>\n",
       "    <tr>\n",
       "      <th>4</th>\n",
       "      <td>Given a question and two possible answers, you...</td>\n",
       "      <td>4\\nExplanation: Both answers are wrong since t...</td>\n",
       "    </tr>\n",
       "  </tbody>\n",
       "</table>\n",
       "</div>"
      ],
      "text/plain": [
       "                                         instruction  \\\n",
       "0  Given a question and two possible answers, you...   \n",
       "1  Given a question and two possible answers, you...   \n",
       "2  Given a question and two possible answers, you...   \n",
       "3  Given a question and two possible answers, you...   \n",
       "4  Given a question and two possible answers, you...   \n",
       "\n",
       "                                              output  \n",
       "0  1\\nExplanation: Answer 1 is the correct answer...  \n",
       "1  2\\nExplanation: The answer 2 is better because...  \n",
       "2  4\\nExplanation: The answers do not directly ad...  \n",
       "3  3\\nExplanation: Both answers are correct, and ...  \n",
       "4  4\\nExplanation: Both answers are wrong since t...  "
      ]
     },
     "execution_count": 65,
     "metadata": {},
     "output_type": "execute_result"
    }
   ],
   "source": [
    "train_file_path = f'{writing_path}/data_training/train_data_fusion_w_exp_example.json'\n",
    "# train_data = load_jsonlines(train_file_path)\n",
    "with open(train_file_path, 'w') as f:\n",
    "    for data in final_data:\n",
    "        f.write(json.dumps(data) + '\\n')\n",
    "\n",
    "df_train = pd.DataFrame(train_data)\n",
    "print(len(df_train))\n",
    "df_train.head()"
   ]
  },
  {
   "cell_type": "code",
   "execution_count": 66,
   "metadata": {},
   "outputs": [
    {
     "name": "stdout",
     "output_type": "stream",
     "text": [
      "TRAIN INSTRUCTION EXAMPLE:\n",
      "Given a question and two possible answers, you need to determine which answer is better, equally good or equally bad. \n",
      "Some context is provided, but please note that this context might be irrelevant or misleading (sourced from similar names): \n",
      "Geographical feature\n",
      "ponds, parks and woods, mills, manor houses, moats, and churches may be considered part of a settlement. Engineered geographic features include highways, bridges, airports, railroads, buildings, dams, and reservoirs, and are part of the anthroposphere because they are man-made geographic features. Cartographic features are types of abstract geographical features, which appear on maps but not on the planet itself, even though they are located on the planet. For example, the Equator is shown on maps of the Earth, but it does not physically exist. It is a theoretical line used for reference, navigation, and measurement. Geographical feature Geographical features are\n",
      "Karain semi-continent\n",
      "Karain semi-continent The Karain semi-continent is a fictional landmass of almost-continental size, featured in the novel \"Islandia\" by Austin Tappan Wright, as well as several of his other writings, such as \"The Story of Alwina.\" Mark Saxton, Wright's editor, also wrote three sequel novels set in Islandia. Wright started inventing the geography as a young boy and continued the hobby into adulthood. \"Islandia\" is a fictional country at the extreme southern end of Karain. Neither the specific dimensions of the Karain semi-continent, nor Islandia, are ever specifically stated in the book, however a number of things are implied. Judging from\n",
      "\n",
      "    \n",
      "    The good answer should be concise, factual, correct and strictly follow the answer format (no special tokens or emojis). \n",
      "    - If the first answer is better, type \"1\"\n",
      "    - If the second answer is better, type \"2\"\n",
      "    - If both answers correct, type \"3\"\n",
      "    - If two answers are both wrong, type \"4\".\n",
      "    \n",
      "    Question: What geographical feature means 'almost island'?\n",
      "    \n",
      "    Answer 1: According to the text, a geographical feature that means \"almost island\" is a peninsula.\n",
      "    Answer 1 confidence score: 0.885\n",
      "\n",
      "    Answer 2: The geographical feature that means \"almost island\" is a semi-continent.\n",
      "    Answer 2 confidence score: 0.942\n",
      "    \n",
      "    Please read the provided context, question, and possible answers carefully before making a judgement.\n",
      "\n",
      "    When checking the answer, prioritize as follows:\n",
      "    a. The context is not misleading, and the answer is supported by the context. The format is exactly as expected. -- This is the best answer.\n",
      "    b. The answer does not use the context, but you believe the answer is correct. The format is exactly as expected. -- This is the second-best answer.\n",
      "    c. The context is misleading, and the answer is misled by the context, hence it is wrong. Or the answer includes any emojis or special tokens -- This is the worst answer.\n",
      "    d. The answer does not directly address the question or challenge the premise of the question. -- This is the worst answer.\n",
      "    \n",
      "Judgement: \n",
      "====================================================================================================\n",
      "TRAIN TARGET EXAMPLE:\n",
      "1\n",
      "Explanation: Answer 1 is the correct answer as it accurately describes the definition of a peninsula, which is a geographical feature that means \"almost island\". The context does not provide any misleading information, and the answer is supported by the context. Answer 2 is incorrect, as a semi-continent is a fictional\n"
     ]
    }
   ],
   "source": [
    "print('TRAIN INSTRUCTION EXAMPLE:')\n",
    "print(df_train['instruction'][0])\n",
    "print('='*100)\n",
    "print('TRAIN TARGET EXAMPLE:')\n",
    "print(df_train['output'][0])"
   ]
  },
  {
   "cell_type": "markdown",
   "metadata": {},
   "source": [
    "full-size data used for judge training (llama3)"
   ]
  },
  {
   "cell_type": "code",
   "execution_count": 56,
   "metadata": {},
   "outputs": [
    {
     "name": "stdout",
     "output_type": "stream",
     "text": [
      "40749\n"
     ]
    },
    {
     "data": {
      "text/html": [
       "<div>\n",
       "<style scoped>\n",
       "    .dataframe tbody tr th:only-of-type {\n",
       "        vertical-align: middle;\n",
       "    }\n",
       "\n",
       "    .dataframe tbody tr th {\n",
       "        vertical-align: top;\n",
       "    }\n",
       "\n",
       "    .dataframe thead th {\n",
       "        text-align: right;\n",
       "    }\n",
       "</style>\n",
       "<table border=\"1\" class=\"dataframe\">\n",
       "  <thead>\n",
       "    <tr style=\"text-align: right;\">\n",
       "      <th></th>\n",
       "      <th>instruction</th>\n",
       "      <th>output</th>\n",
       "    </tr>\n",
       "  </thead>\n",
       "  <tbody>\n",
       "    <tr>\n",
       "      <th>0</th>\n",
       "      <td>Given a question and two possible answers, you...</td>\n",
       "      <td>1\\nExplanation: Answer 1 is the correct answer...</td>\n",
       "    </tr>\n",
       "    <tr>\n",
       "      <th>1</th>\n",
       "      <td>Given a question and two possible answers, you...</td>\n",
       "      <td>2\\nExplanation: The answer 2 is better because...</td>\n",
       "    </tr>\n",
       "    <tr>\n",
       "      <th>2</th>\n",
       "      <td>Given a question and two possible answers, you...</td>\n",
       "      <td>4\\nExplanation: The answers do not directly ad...</td>\n",
       "    </tr>\n",
       "    <tr>\n",
       "      <th>3</th>\n",
       "      <td>Given a question and two possible answers, you...</td>\n",
       "      <td>3\\nExplanation: Both answers are correct, and ...</td>\n",
       "    </tr>\n",
       "    <tr>\n",
       "      <th>4</th>\n",
       "      <td>Given a question and two possible answers, you...</td>\n",
       "      <td>4\\nExplanation: Both answers are wrong since t...</td>\n",
       "    </tr>\n",
       "  </tbody>\n",
       "</table>\n",
       "</div>"
      ],
      "text/plain": [
       "                                         instruction  \\\n",
       "0  Given a question and two possible answers, you...   \n",
       "1  Given a question and two possible answers, you...   \n",
       "2  Given a question and two possible answers, you...   \n",
       "3  Given a question and two possible answers, you...   \n",
       "4  Given a question and two possible answers, you...   \n",
       "\n",
       "                                              output  \n",
       "0  1\\nExplanation: Answer 1 is the correct answer...  \n",
       "1  2\\nExplanation: The answer 2 is better because...  \n",
       "2  4\\nExplanation: The answers do not directly ad...  \n",
       "3  3\\nExplanation: Both answers are correct, and ...  \n",
       "4  4\\nExplanation: Both answers are wrong since t...  "
      ]
     },
     "execution_count": 56,
     "metadata": {},
     "output_type": "execute_result"
    }
   ],
   "source": [
    "train_file_path = f'{writing_path}/data_training/train_data_fusion_w_exp.jsonl'\n",
    "train_data = load_jsonlines(train_file_path)\n",
    "\n",
    "df_train = pd.DataFrame(train_data)\n",
    "print(len(df_train))\n",
    "df_train.head()"
   ]
  },
  {
   "cell_type": "code",
   "execution_count": 58,
   "metadata": {},
   "outputs": [
    {
     "name": "stdout",
     "output_type": "stream",
     "text": [
      "TRAIN INSTRUCTION EXAMPLE:\n",
      "Given a question and two possible answers, you need to determine which answer is better, equally good or equally bad. \n",
      "Some context is provided, but please note that this context might be irrelevant or misleading (sourced from similar names): \n",
      "Geographical feature\n",
      "ponds, parks and woods, mills, manor houses, moats, and churches may be considered part of a settlement. Engineered geographic features include highways, bridges, airports, railroads, buildings, dams, and reservoirs, and are part of the anthroposphere because they are man-made geographic features. Cartographic features are types of abstract geographical features, which appear on maps but not on the planet itself, even though they are located on the planet. For example, the Equator is shown on maps of the Earth, but it does not physically exist. It is a theoretical line used for reference, navigation, and measurement. Geographical feature Geographical features are\n",
      "Karain semi-continent\n",
      "Karain semi-continent The Karain semi-continent is a fictional landmass of almost-continental size, featured in the novel \"Islandia\" by Austin Tappan Wright, as well as several of his other writings, such as \"The Story of Alwina.\" Mark Saxton, Wright's editor, also wrote three sequel novels set in Islandia. Wright started inventing the geography as a young boy and continued the hobby into adulthood. \"Islandia\" is a fictional country at the extreme southern end of Karain. Neither the specific dimensions of the Karain semi-continent, nor Islandia, are ever specifically stated in the book, however a number of things are implied. Judging from\n",
      "\n",
      "    \n",
      "    The good answer should be concise, factual, correct and strictly follow the answer format (no special tokens or emojis). \n",
      "    - If the first answer is better, type \"1\"\n",
      "    - If the second answer is better, type \"2\"\n",
      "    - If both answers correct, type \"3\"\n",
      "    - If two answers are both wrong, type \"4\".\n",
      "    \n",
      "    Question: What geographical feature means 'almost island'?\n",
      "    \n",
      "    Answer 1: According to the text, a geographical feature that means \"almost island\" is a peninsula.\n",
      "    Answer 1 confidence score: 0.885\n",
      "\n",
      "    Answer 2: The geographical feature that means \"almost island\" is a semi-continent.\n",
      "    Answer 2 confidence score: 0.942\n",
      "    \n",
      "    Please read the provided context, question, and possible answers carefully before making a judgement.\n",
      "\n",
      "    When checking the answer, prioritize as follows:\n",
      "    a. The context is not misleading, and the answer is supported by the context. The format is exactly as expected. -- This is the best answer.\n",
      "    b. The answer does not use the context, but you believe the answer is correct. The format is exactly as expected. -- This is the second-best answer.\n",
      "    c. The context is misleading, and the answer is misled by the context, hence it is wrong. Or the answer includes any emojis or special tokens -- This is the worst answer.\n",
      "    d. The answer does not directly address the question or challenge the premise of the question. -- This is the worst answer.\n",
      "    \n",
      "Judgement: \n",
      "====================================================================================================\n",
      "TRAIN TARGET EXAMPLE:\n",
      "1\n",
      "Explanation: Answer 1 is the correct answer as it accurately describes the definition of a peninsula, which is a geographical feature that means \"almost island\". The context does not provide any misleading information, and the answer is supported by the context. Answer 2 is incorrect, as a semi-continent is a fictional\n"
     ]
    }
   ],
   "source": [
    "print('TRAIN INSTRUCTION EXAMPLE:')\n",
    "print(df_train['instruction'][0])\n",
    "print('='*100)\n",
    "print('TRAIN TARGET EXAMPLE:')\n",
    "print(df_train['output'][0])"
   ]
  }
 ],
 "metadata": {
  "kernelspec": {
   "display_name": "base",
   "language": "python",
   "name": "python3"
  },
  "language_info": {
   "codemirror_mode": {
    "name": "ipython",
    "version": 3
   },
   "file_extension": ".py",
   "mimetype": "text/x-python",
   "name": "python",
   "nbconvert_exporter": "python",
   "pygments_lexer": "ipython3",
   "version": "3.12.2"
  }
 },
 "nbformat": 4,
 "nbformat_minor": 2
}
